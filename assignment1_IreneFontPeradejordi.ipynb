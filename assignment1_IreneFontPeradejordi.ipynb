{
 "cells": [
  {
   "cell_type": "markdown",
   "metadata": {},
   "source": [
    "# Assignment 1"
   ]
  },
  {
   "cell_type": "markdown",
   "metadata": {},
   "source": [
    "Write a function days_in_seconds that takes a number days, and returns a string with the format 'X days = Y seconds', where X is equal to the value in the parameter days and Y is equal to the number of seconds in X days:\n",
    "\n",
    "def days_in_seconds(days):\n",
    "\n",
    "        #fill in the body of the function and return the appropriate value.\n",
    "\n",
    "For example, days_in_seconds(3) returns '3 days = 4320 seconds'. \n",
    "\n",
    "Note that:\n",
    "\n",
    "You can assume that days is a positive integer.\n",
    "You must follow the formatting carefully: all letters in the returned string must be lower-cased, and there should be a exactly one space between words and punctuation marks. There are no extra spaces at the beginning and at the end of the returned string."
   ]
  },
  {
   "cell_type": "code",
   "execution_count": 40,
   "metadata": {},
   "outputs": [],
   "source": [
    "def days_in_seconds(days):\n",
    "    days_seconds = days * 24 * 60 * 60\n",
    "    answer = str(days) + \" days = \" + str(days_seconds) + \" seconds\"\n",
    "    return answer"
   ]
  },
  {
   "cell_type": "code",
   "execution_count": 43,
   "metadata": {},
   "outputs": [
    {
     "data": {
      "text/plain": [
       "'3 days = 259200 seconds'"
      ]
     },
     "execution_count": 43,
     "metadata": {},
     "output_type": "execute_result"
    }
   ],
   "source": [
    "days_in_seconds(3)"
   ]
  },
  {
   "cell_type": "code",
   "execution_count": 42,
   "metadata": {},
   "outputs": [
    {
     "data": {
      "text/plain": [
       "'1230 days = 106272000 seconds'"
      ]
     },
     "execution_count": 42,
     "metadata": {},
     "output_type": "execute_result"
    }
   ],
   "source": [
    "days_in_seconds(1230)"
   ]
  },
  {
   "cell_type": "markdown",
   "metadata": {},
   "source": [
    "# CORRECTION"
   ]
  },
  {
   "cell_type": "markdown",
   "metadata": {},
   "source": [
    "It is correct. We get the '' because it is a string"
   ]
  },
  {
   "cell_type": "markdown",
   "metadata": {},
   "source": [
    "# Let's creat a function that depending on the value does diff things"
   ]
  },
  {
   "cell_type": "markdown",
   "metadata": {},
   "source": [
    "If the input value has the input 1, then write \"day\". If it is >1 then write \"days\" --> condition "
   ]
  },
  {
   "cell_type": "code",
   "execution_count": 10,
   "metadata": {},
   "outputs": [],
   "source": [
    "def days_in_seconds_flexible(days):\n",
    "    days_seconds = days * 24 * 60 * 60\n",
    "    if (days == 1):\n",
    "        answer = str(days) + \" day = \" + str(days_seconds) + \" seconds\"\n",
    "    else:\n",
    "        answer = str(days) + \" days = \" + str(days_seconds) + \" seconds\"\n",
    "    return answer"
   ]
  },
  {
   "cell_type": "code",
   "execution_count": 11,
   "metadata": {},
   "outputs": [
    {
     "data": {
      "text/plain": [
       "'1 day = 86400 seconds'"
      ]
     },
     "execution_count": 11,
     "metadata": {},
     "output_type": "execute_result"
    }
   ],
   "source": [
    "days_in_seconds_flexible(1)"
   ]
  },
  {
   "cell_type": "code",
   "execution_count": null,
   "metadata": {},
   "outputs": [],
   "source": []
  }
 ],
 "metadata": {
  "kernelspec": {
   "display_name": "Python 3",
   "language": "python",
   "name": "python3"
  },
  "language_info": {
   "codemirror_mode": {
    "name": "ipython",
    "version": 3
   },
   "file_extension": ".py",
   "mimetype": "text/x-python",
   "name": "python",
   "nbconvert_exporter": "python",
   "pygments_lexer": "ipython3",
   "version": "3.5.3"
  }
 },
 "nbformat": 4,
 "nbformat_minor": 2
}
