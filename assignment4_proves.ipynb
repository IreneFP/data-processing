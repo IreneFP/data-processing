{
 "cells": [
  {
   "cell_type": "code",
   "execution_count": 1,
   "metadata": {},
   "outputs": [],
   "source": [
    "def remove_pins(s,e,file_name):   \n",
    "    file = open(file_name, \"r\")   \n",
    "    pins = file.readline() #only one line    \n",
    "    file.close() \n",
    "    d = e - s    \n",
    "    new_pins = pins[:s] + \".\"* (d+1) + pins[e+1:] \n",
    "    \n",
    "    return new_pins\n",
    "\n",
    "#def remove_pins2(s,e,pins):\n",
    " #   d = e - s    \n",
    " #   new_pins = pins[:s] + \".\"* (d+1) + pins[e+1:]   \n",
    "  #  return new_pins"
   ]
  },
  {
   "cell_type": "code",
   "execution_count": null,
   "metadata": {},
   "outputs": [],
   "source": [
    "ball_sequences = [[0,1],[4,5]]\n",
    "\n",
    "def bowling(balls):\n",
    " \n",
    "    file_name = open(\"pins.txt\", \"w\")\n",
    "    new_pins = \"IIIIIIIIII\"\n",
    "    file_name.write(new_pins)\n",
    "    file_name.close()\n",
    "    \n",
    "    for i in balls:\n",
    "        for n in range(1):\n",
    "            new_pins = remove_pins(i[0], i[1], \"pins.txt\")\n",
    "        print(new_pins)\n",
    "    return new_pins\n",
    "\n",
    "    \n",
    "    \n",
    "\n",
    "bowling(ball_sequences)"
   ]
  },
  {
   "cell_type": "code",
   "execution_count": null,
   "metadata": {},
   "outputs": [],
   "source": []
  },
  {
   "cell_type": "code",
   "execution_count": 4,
   "metadata": {},
   "outputs": [
    {
     "name": "stdout",
     "output_type": "stream",
     "text": [
      "['..IIIIIIII', 'IIII..IIII']\n"
     ]
    },
    {
     "data": {
      "text/plain": [
       "'..II..IIII'"
      ]
     },
     "execution_count": 4,
     "metadata": {},
     "output_type": "execute_result"
    }
   ],
   "source": [
    "def bowling_Irene(balls):\n",
    "    fp = open(\"new_pins.txt\", \"w\")\n",
    "    new_pins = \"IIIIIIIIII\"\n",
    "    fp.write(new_pins)\n",
    "    fp.close() # this is important, otherwise your file remains open and can make a mess\n",
    "   \n",
    "    throws = []\n",
    "    for i in balls:\n",
    "        throws.append(remove_pins(i[0], i[1], \"new_pins.txt\"))\n",
    "        \n",
    "    print(throws) # this will show you that we have a list of the throws one-by-one\n",
    "    \n",
    "    new_pins_list = list(new_pins)\n",
    "    counter = 0\n",
    "    for throw in throws:\n",
    "        for character in throw:\n",
    "            if(character == \".\"):\n",
    "                new_pins_list[counter] = \".\"\n",
    "            counter += 1\n",
    "        counter = 0\n",
    "            \n",
    "    new_pins = ''.join(new_pins_list)\n",
    "    \n",
    "    return new_pins\n",
    "\n",
    "ball_sequences = [[0,1],[4,5]]\n",
    "bowling_Irene(ball_sequences)"
   ]
  },
  {
   "cell_type": "code",
   "execution_count": null,
   "metadata": {},
   "outputs": [],
   "source": []
  },
  {
   "cell_type": "code",
   "execution_count": null,
   "metadata": {},
   "outputs": [],
   "source": [
    "ball_sequences = [[0,1],[4,5]] \n",
    "\n",
    "def bowling(balls):\n",
    "    #create a file with 10 standed up\n",
    "    fp = open(\"new_pins.txt\", \"w\")\n",
    "    fp.write(\"IIIIIIIIII\")\n",
    "    \n",
    "    pins = \"\"\n",
    "    for i in range(len(balls)):\n",
    "        for n in range(len(balls[i])):\n",
    "            if n is 0:\n",
    "                start = balls[i][n]\n",
    "            else:\n",
    "                end = balls[i][n]\n",
    "        new_balls = remove_pins(start,end,\"pins.txt\")\n",
    "        print(new_balls)                               #### I think the problem is here\n",
    "            \n",
    "    fp.close()\n",
    "\n",
    "bowling(ball_sequences)"
   ]
  },
  {
   "cell_type": "code",
   "execution_count": null,
   "metadata": {},
   "outputs": [],
   "source": []
  }
 ],
 "metadata": {
  "kernelspec": {
   "display_name": "Python 3",
   "language": "python",
   "name": "python3"
  },
  "language_info": {
   "codemirror_mode": {
    "name": "ipython",
    "version": 3
   },
   "file_extension": ".py",
   "mimetype": "text/x-python",
   "name": "python",
   "nbconvert_exporter": "python",
   "pygments_lexer": "ipython3",
   "version": "3.5.3"
  }
 },
 "nbformat": 4,
 "nbformat_minor": 2
}
