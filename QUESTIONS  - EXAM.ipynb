{
 "cells": [
  {
   "cell_type": "markdown",
   "metadata": {},
   "source": [
    "# Questions Exam"
   ]
  },
  {
   "cell_type": "markdown",
   "metadata": {},
   "source": [
    "**SOLVED**"
   ]
  },
  {
   "cell_type": "code",
   "execution_count": null,
   "metadata": {},
   "outputs": [],
   "source": [
    "def vowel (text):\n",
    "    for i in text:\n",
    "        if i in \"aeiouAEIOU\":\n",
    "            print (i)\n",
    "            return True\n",
    "    \n",
    "    return False\n",
    "\n",
    "print(vowel(\"mwA\"))"
   ]
  },
  {
   "cell_type": "markdown",
   "metadata": {},
   "source": [
    "------------------"
   ]
  },
  {
   "cell_type": "markdown",
   "metadata": {},
   "source": [
    "**SOLVED**"
   ]
  },
  {
   "cell_type": "markdown",
   "metadata": {},
   "source": [
    "Define a function that receives a string parameter, and returns an integer indicating how many different vowels there are in the string. The capital version of a lower case vowel is considered to be the same vowel. y is not considered a vowel. For example, for the string \"Michael Palin\", the function should 3."
   ]
  },
  {
   "cell_type": "code",
   "execution_count": null,
   "metadata": {},
   "outputs": [],
   "source": [
    "def count_vowels(text):\n",
    "    count = 0\n",
    "    print(count)\n",
    "\n",
    "    if (\"a\" in text) or (\"A\" in text):\n",
    "        count += 1\n",
    "\n",
    "    if (\"e\" in text) or (\"E\" in text):\n",
    "        count += 1\n",
    "\n",
    "    if (\"i\" in text) or (\"I\" in text):\n",
    "        count += 1\n",
    "\n",
    "    if (\"o\" in text) or (\"O\" in text):\n",
    "        count += 1\n",
    "\n",
    "    if (\"u\" in text) or (\"U\" in text):\n",
    "        count += 1\n",
    "    \n",
    "    return count\n",
    "    \n",
    "    #for i in text:\n",
    "     #   if i in \"aeiouAEIOU\":\n",
    "      #      count += 1\n",
    "    #return count\n",
    "\n",
    "count_vowels(\"AMichel Plin\")"
   ]
  },
  {
   "cell_type": "code",
   "execution_count": null,
   "metadata": {},
   "outputs": [],
   "source": [
    "\"A\" or \"a\" in \"AMichel Plin\""
   ]
  },
  {
   "cell_type": "markdown",
   "metadata": {},
   "source": [
    "------------"
   ]
  },
  {
   "cell_type": "markdown",
   "metadata": {},
   "source": [
    "RECORDAR: Funció **Continue** o **break**\n",
    "\n",
    "RECORDAR: **Multiplication table**"
   ]
  },
  {
   "cell_type": "markdown",
   "metadata": {},
   "source": [
    "-----"
   ]
  },
  {
   "cell_type": "markdown",
   "metadata": {},
   "source": [
    "**[NB9]** The Grerory-Leibnitz series approximates pi as 4 * (1/1 - 1/3 + 1/5 - 1/7 + 1/9 ...). Write a function that returns the approximation of pi according to this series. The function gets one parameter, namely an integer that indicates how many of the terms between the parentheses must be calculated."
   ]
  },
  {
   "cell_type": "code",
   "execution_count": null,
   "metadata": {},
   "outputs": [],
   "source": []
  },
  {
   "cell_type": "markdown",
   "metadata": {},
   "source": [
    "----"
   ]
  },
  {
   "cell_type": "markdown",
   "metadata": {},
   "source": [
    "**SOLVED!  ** How can I solve this \"out of range\""
   ]
  },
  {
   "cell_type": "code",
   "execution_count": 21,
   "metadata": {},
   "outputs": [
    {
     "name": "stdout",
     "output_type": "stream",
     "text": [
      "o in position 5\n",
      "a in position 11\n",
      "\n"
     ]
    }
   ],
   "source": [
    "s1 = \"The Holy Grail\"\n",
    "s2 = \"Life of Brian\"\n",
    "\n",
    "def similarchart (text1, text2):\n",
    "    solution = \"\"\n",
    "    for i in range(len(text1)-1):\n",
    "        if i == len(text2):\n",
    "            break\n",
    "        elif text1[i] == text2[i]:\n",
    "            solution += (text1[i] + \" in position \" + str(i) + \"\\n\" )\n",
    "    return solution   \n",
    "                 \n",
    "                \n",
    "print(similarchart (s1, s2))"
   ]
  },
  {
   "cell_type": "code",
   "execution_count": 1,
   "metadata": {},
   "outputs": [
    {
     "name": "stdout",
     "output_type": "stream",
     "text": [
      "o in position 5\n",
      "a in position 11\n",
      "\n"
     ]
    }
   ],
   "source": [
    "s1 = \"The Holy Grail\"\n",
    "s2 = \"Life of Brian\"\n",
    "\n",
    "def similarchart (text1, text2):\n",
    "    result = \"\"\n",
    "    for i in range(len(text1)):\n",
    "        if i == len(text2):\n",
    "            break\n",
    "        elif text1[i] == text2[i]:\n",
    "            result += (text1[i] + \" in position \" + str(i) + \"\\n\")\n",
    "    return result\n",
    "\n",
    "        \n",
    "print(similarchart (s1, s2))\n"
   ]
  },
  {
   "cell_type": "markdown",
   "metadata": {},
   "source": [
    "------"
   ]
  },
  {
   "cell_type": "markdown",
   "metadata": {},
   "source": [
    "SOLVED**[NB10]** **Exercise**: Write a program that prints a \"cleaned\" version of all the words in a string. Everything that is not a letter should be removed and be considered a separator. All the letters should be lower case. For example, the string \"I'm sorry, sir.\" should produce four words, namely \"i\", \"m\", \"sorry\", and \"sir\". You can use the function for string cleaning which you wrote as an exercise above."
   ]
  },
  {
   "cell_type": "code",
   "execution_count": 30,
   "metadata": {},
   "outputs": [
    {
     "name": "stdout",
     "output_type": "stream",
     "text": [
      "i\n",
      "m\n",
      "sorry\n",
      "sir\n"
     ]
    },
    {
     "data": {
      "text/plain": [
       "['i', 'm', 'sorry', 'sir']"
      ]
     },
     "execution_count": 30,
     "metadata": {},
     "output_type": "execute_result"
    }
   ],
   "source": [
    "def clean_string (text):\n",
    "    words = text.split()\n",
    "    words2 = []\n",
    "    clean_words = []\n",
    "    for i in words:\n",
    "        words2.extend(i.split(\"'\"))      \n",
    "    for i in words2:\n",
    "        clean_words.append(i.strip(\".,\").lower())\n",
    "    for i in clean_words:\n",
    "        print(i)\n",
    "        \n",
    "    return(clean_words)\n",
    "    \n",
    "    \n",
    "    \n",
    "clean_string(\"I'm sorry, sir.\")"
   ]
  },
  {
   "cell_type": "markdown",
   "metadata": {},
   "source": [
    "---\n"
   ]
  },
  {
   "cell_type": "markdown",
   "metadata": {},
   "source": [
    "???  **[NB10]**The text string in the next cell contains several words which are enclosed by square brackets (`[` and `]`). Scan the string and print out all words which are between square brackets. For example, if the text string would be \"`[a]n example[ string]`\", you are expected to print out \"`a string`\"."
   ]
  },
  {
   "cell_type": "code",
   "execution_count": 39,
   "metadata": {},
   "outputs": [
    {
     "name": "stdout",
     "output_type": "stream",
     "text": [
      "[117, 117, 117, 117, 117, 117, 117, 117, 117]\n"
     ]
    }
   ],
   "source": [
    "# Distilling text.\n",
    "text = \"\"\"The quick, brown fox jumps over a lazy dog. DJs flock by when MTV ax quiz prog. \n",
    "Junk MTV quiz graced by fox whelps. [Never gonna ] Bawds jog, flick quartz, vex nymphs. \n",
    "[give you up\\n] Waltz, bad nymph, for quick jigs vex! Fox nymphs grab quick-jived waltz. \n",
    "Brick quiz whangs jumpy veldt fox. [Never ] Bright vixens jump; [gonna let ] dozy fowl \n",
    "quack. Quick wafting zephyrs vex bold Jim. Quick zephyrs blow, vexing daft Jim. Charged \n",
    "[you down\\n] fop blew my junk TV quiz. How quickly daft jumping zebras vex. Two driven \n",
    "jocks help fax my big quiz. Quick, Baz, get my woven flax jodhpurs! \"Now fax quiz Jack!\" \n",
    "my brave ghost pled. [Never ] Five quacking zephyrs jolt my wax bed. [gonna ] Flummoxed \n",
    "by job, kvetching W. zaps Iraq. Cozy sphinx waves quart jug of bad milk. [run around ] \n",
    "A very bad quack might jinx zippy fowls. Few quips galvanized the mock jury box. Quick \n",
    "brown dogs jump over the lazy fox. The jay, pig, fox, zebra, and my wolves quack! \n",
    "[and desert you] Blowzy red vixens fight for a quick jump. Joaquin Phoenix was gazed \n",
    "by MTV for luck. A wizard’s job is to vex chumps quickly in fog. Watch \"Jeopardy!\", \n",
    "Alex Trebek's fun TV quiz game.\"\"\"\n",
    "list1 = []\n",
    "list2 = []\n",
    "for i in text:\n",
    "    if (i == \"[\"):\n",
    "        list1.append(text.find(i))\n",
    "        \n",
    "print (list1)"
   ]
  },
  {
   "cell_type": "markdown",
   "metadata": {},
   "source": [
    "---\n"
   ]
  },
  {
   "cell_type": "markdown",
   "metadata": {},
   "source": [
    "SOLVED**[NB10]**Print a line of all the capital letters \"A\" to \"Z\". Below it, print a line of the letters that are 13 positions in the alphabet away from the letters that are above them. E.g., below the \"A\" you print an \"N\", below the \"B\" you print an \"O\", etcetera. You have to consider the alphabet to be circular, i.e., after the \"Z\", it loops back to the \"A\" again."
   ]
  },
  {
   "cell_type": "code",
   "execution_count": 78,
   "metadata": {},
   "outputs": [
    {
     "name": "stdout",
     "output_type": "stream",
     "text": [
      "6\n",
      "['A', 'B', 'C', 'D', 'E', 'F', 'G', 'H', 'I']\n",
      "['C', 'D', 'E', 'F', 'G', 'H', 'I', 'A', 'B']\n"
     ]
    }
   ],
   "source": [
    "List = [\"A\", \"B\", \"C\", 'D', 'E', 'F', 'G', 'H', 'I' ]\n",
    "NewList = []\n",
    "\n",
    "print(len(List)-3)\n",
    "\n",
    "for i in range(len(List)):\n",
    "    if i <= (len(List)-3):\n",
    "        NewList.append(List[i+2])\n",
    "    elif len(NewList) == len(List):\n",
    "        break\n",
    "    else:\n",
    "        NewList.append(List[i-(len(List)-2)])\n",
    "    \n",
    "\n",
    "print(List)\n",
    "print(NewList)\n",
    "\n"
   ]
  },
  {
   "cell_type": "markdown",
   "metadata": {},
   "source": [
    "---\n"
   ]
  },
  {
   "cell_type": "markdown",
   "metadata": {},
   "source": [
    "SOLVED**[NB10]**In the text below, count how often the word \"wood\" occurs (using program code, of course). Capitals and lower case letters may both be used, and you have to consider that the word \"wood\" should be a separate word, and not part of another word. Hint: If you did the exercises from this chapter, you already developed a function that \"cleans\" a text. Combining that function with the `split()` function more or less solves the problem for you. - **How can I strip the . and ?**"
   ]
  },
  {
   "cell_type": "code",
   "execution_count": 83,
   "metadata": {},
   "outputs": [
    {
     "name": "stdout",
     "output_type": "stream",
     "text": [
      "3\n"
     ]
    }
   ],
   "source": [
    "# Counting wood.\n",
    "text = \"\"\"How much wood would a woodchuck chuck\n",
    "If a woodchuck could chuck wood?\n",
    "He would chuck, he would, as much as he could,\n",
    "And chuck as much as a woodchuck would\n",
    "If a woodchuck could chuck wood.\"\"\"\n",
    "\n",
    "\n",
    "lowercase = text.lower().split()\n",
    "\n",
    "count = 0\n",
    "clean_string = []\n",
    "for word in lowercase:\n",
    "    clean_string.append(word.strip('.,?'))\n",
    "for i in clean_string:\n",
    "    if i == 'wood':\n",
    "        count += 1\n",
    "    \n",
    "    \n",
    "#     if word == \"wood\":\n",
    "#         count += 1\n",
    "print(count)\n"
   ]
  },
  {
   "cell_type": "markdown",
   "metadata": {},
   "source": [
    "---\n"
   ]
  },
  {
   "cell_type": "markdown",
   "metadata": {},
   "source": [
    "??**[NB10]**Typical autocorrect functions are the following: \n",
    "1. if a word starts with two capitals, followed by a lower-case letter, the second capital is made lower case; \n",
    "2. if a sentence contains a word that is immediately followed by the same word, the second occurrence is removed; \n",
    "3. if a sentence starts with a lower-case letter, that letter is turned into a capital; \n",
    "4. if a word consists entirely of capitals, except for the first letter which is lower case, then the case of the letters in the word is reversed; and \n",
    "5. if the sentence contains the name of a day (in English) which does not start with a capital, the first letter is turned into a capital. \n",
    "\n",
    "Write a program that takes a sentence and makes these auto-corrections."
   ]
  },
  {
   "cell_type": "code",
   "execution_count": 85,
   "metadata": {},
   "outputs": [
    {
     "name": "stdout",
     "output_type": "stream",
     "text": [
      "a\n",
      "s\n",
      " \n",
      "i\n",
      "t\n",
      " \n",
      "t\n",
      "u\n",
      "r\n",
      "n\n",
      "e\n",
      "d\n",
      " \n",
      "o\n",
      "u\n",
      "t\n",
      " \n",
      "o\n",
      "u\n",
      "r\n",
      " \n",
      "c\n",
      "h\n",
      "a\n",
      "n\n",
      "c\n",
      "e\n",
      " \n",
      "m\n",
      "e\n",
      "e\n",
      "t\n",
      "i\n",
      "n\n",
      "g\n",
      " \n",
      "w\n",
      "i\n",
      "t\n",
      "h\n",
      " \n",
      "R\n",
      "E\n",
      "v\n",
      "e\n",
      "r\n",
      "e\n",
      "n\n",
      "d\n",
      " \n",
      "a\n",
      "R\n",
      "T\n",
      "H\n",
      "U\n",
      "R\n",
      " \n",
      "B\n",
      "E\n",
      "l\n",
      "l\n",
      "i\n",
      "n\n",
      "g\n",
      " \n",
      "w\n",
      "a\n",
      "s\n",
      " \n",
      "w\n",
      "a\n",
      "s\n",
      " \n",
      "t\n",
      "o\n",
      " \n",
      "c\n",
      "h\n",
      "a\n",
      "n\n",
      "g\n",
      "e\n",
      " \n",
      "o\n",
      "u\n",
      "r\n",
      " \n",
      "w\n",
      "h\n",
      "o\n",
      "l\n",
      "e\n",
      " \n",
      "w\n",
      "a\n",
      "y\n",
      " \n",
      "o\n",
      "f\n",
      " \n",
      "l\n",
      "i\n",
      "f\n",
      "e\n",
      ",\n",
      " \n",
      "a\n",
      "n\n",
      "d\n",
      " \n",
      "e\n",
      "v\n",
      "e\n",
      "r\n",
      "y\n",
      " \n",
      "s\n",
      "u\n",
      "n\n",
      "d\n",
      "a\n",
      "y\n",
      " \n",
      "w\n",
      "e\n",
      "'\n",
      "d\n",
      " \n",
      "h\n",
      "u\n",
      "r\n",
      "r\n",
      "y\n",
      " \n",
      "a\n",
      "l\n",
      "o\n",
      "n\n",
      "g\n",
      " \n",
      "t\n",
      "o\n",
      " \n",
      "S\n",
      "t\n",
      " \n",
      "l\n",
      "O\n",
      "O\n",
      "N\n",
      "Y\n",
      " \n",
      "u\n",
      "p\n",
      " \n",
      "t\n",
      "h\n",
      "e\n",
      " \n",
      "C\n",
      "r\n",
      "e\n",
      "a\n",
      "m\n",
      " \n",
      "B\n",
      "U\n",
      "n\n",
      " \n",
      "a\n",
      "n\n",
      "d\n",
      " \n",
      "J\n",
      "a\n",
      "m\n",
      ".\n"
     ]
    }
   ],
   "source": [
    "# Autocorrect.\n",
    "sentence = \"as it turned out our chance meeting with REverend aRTHUR BElling was \\\n",
    "was to change our whole way of life, and every sunday we'd hurry along to St lOONY up the Cream BUn and Jam.\"\n",
    "\n",
    "def corrector (text):\n",
    "    for i in text:\n",
    "        print (i)\n",
    "        \n",
    "corrector(sentence)"
   ]
  },
  {
   "cell_type": "markdown",
   "metadata": {},
   "source": [
    "---\n"
   ]
  },
  {
   "cell_type": "markdown",
   "metadata": {},
   "source": [
    "SOLVED**[NB11]** Com puc imprimir les primeres 10 linies d un text utilitzan el for loop? - NO ACABO D'ENTENDRE EL BREAK DEL WHILE"
   ]
  },
  {
   "cell_type": "code",
   "execution_count": 87,
   "metadata": {},
   "outputs": [
    {
     "name": "stdout",
     "output_type": "stream",
     "text": [
      "THE CASK OF AMONTILLADO.\n",
      "\n",
      "THE thousand injuries of Fortunato I had borne as I best could; but\n",
      "when he ventured upon insult, I vowed revenge. You, who so well know the\n",
      "nature of my soul, will not suppose, however, that I gave utterance to\n",
      "a threat. _At length_ I would be avenged; this was a point definitively\n",
      "settled--but the very definitiveness with which it was resolved,\n",
      "precluded the idea of risk. I must not only punish, but punish with\n",
      "impunity. A wrong is unredressed when retribution overtakes its\n",
      "redresser. It is equally unredressed when the avenger fails to make\n"
     ]
    }
   ],
   "source": [
    "def display_contents_file4(file_name):\n",
    "    fp = open(file_name)\n",
    "    count = 0\n",
    "    while count < 10:\n",
    "        buffer = fp.readline()\n",
    "        if buffer == \"\":\n",
    "            break\n",
    "        print( buffer, end=\"\" )\n",
    "        count += 1\n",
    "    fp.close()\n",
    "    \n",
    "display_contents_file4( \"pc_amontillado.txt\")"
   ]
  },
  {
   "cell_type": "code",
   "execution_count": 89,
   "metadata": {},
   "outputs": [
    {
     "name": "stdout",
     "output_type": "stream",
     "text": [
      "THE CASK OF AMONTILLADO.\n",
      "\n",
      "THE thousand injuries of Fortunato I had borne as I best could; but\n",
      "when he ventured upon insult, I vowed revenge. You, who so well know the\n",
      "nature of my soul, will not suppose, however, that I gave utterance to\n",
      "a threat. _At length_ I would be avenged; this was a point definitively\n",
      "settled--but the very definitiveness with which it was resolved,\n",
      "precluded the idea of risk. I must not only punish, but punish with\n",
      "impunity. A wrong is unredressed when retribution overtakes its\n",
      "redresser. It is equally unredressed when the avenger fails to make\n"
     ]
    }
   ],
   "source": [
    "def print_firstlines(file_name):\n",
    "    fp = open(file_name)\n",
    "    buffer = fp.readlines()\n",
    "    count = 0\n",
    "    for i in buffer:\n",
    "        if count == 10:\n",
    "            break\n",
    "        else:\n",
    "            count += 1\n",
    "            print(i, end = '')\n",
    "            \n",
    "    fp.close()\n",
    "    \n",
    "print_firstlines(\"pc_amontillado.txt\")"
   ]
  },
  {
   "cell_type": "markdown",
   "metadata": {},
   "source": [
    "FER !! **Strange Case of readlines()**\n",
    "count how often the word \"fortunato\" (with any capitalization) occurs in the text as a whole. Print only the number of occurrences of that word. If you do it correctly, you find the answer is 14 (it occurs 3 times in the first 20 lines)."
   ]
  },
  {
   "cell_type": "code",
   "execution_count": 102,
   "metadata": {},
   "outputs": [
    {
     "name": "stdout",
     "output_type": "stream",
     "text": [
      "['the', 'cask', 'of', 'amontillado', 'the', 'thousand', 'injuries', 'of', 'fortunato', 'i', 'had', 'borne', 'as', 'i', 'best', 'could;', 'but', 'when', 'he', 'ventured', 'upon', 'insult', 'i', 'vowed', 'revenge', 'you', 'who', 'so', 'well', 'know', 'the', 'nature', 'of', 'my', 'soul', 'will', 'not', 'suppose', 'however', 'that', 'i', 'gave', 'utterance', 'to', 'a', 'threat', '_at', 'length_', 'i', 'would', 'be', 'avenged;', 'this', 'was', 'a', 'point', 'definitively', 'settled--but', 'the', 'very', 'definitiveness', 'with', 'which', 'it', 'was', 'resolved', 'precluded', 'the', 'idea', 'of', 'risk', 'i', 'must', 'not', 'only', 'punish', 'but', 'punish', 'with', 'impunity', 'a', 'wrong', 'is', 'unredressed', 'when', 'retribution', 'overtakes', 'its', 'redresser', 'it', 'is', 'equally', 'unredressed', 'when', 'the', 'avenger', 'fails', 'to', 'make', 'himself', 'felt', 'as', 'such', 'to', 'him', 'who', 'has', 'done', 'the', 'wrong', 'it', 'must', 'be', 'understood', 'that', 'neither', 'by', 'word', 'nor', 'deed', 'had', 'i', 'given', 'fortunato', 'cause', 'to', 'doubt', 'my', 'good', 'will', 'i', 'continued', 'as', 'was', 'my', 'wont', 'to', 'smile', 'in', 'his', 'face', 'and', 'he', 'did', 'not', 'perceive', 'that', 'my', 'smile', '_now_', 'was', 'at', 'the', 'thought', 'of', 'his', 'immolation', 'he', 'had', 'a', 'weak', 'point--this', 'fortunato--although', 'in', 'other', 'regards', 'he', 'was', 'a', 'man', 'to', 'be', 'respected', 'and', 'even', 'feared', 'he', 'prided', 'himself', 'on', 'his', 'connoisseurship', 'in', 'wine', 'few', 'italians', 'have', 'the', 'true', 'virtuoso', 'spirit', 'for', 'the', 'most', 'part', 'their', 'enthusiasm', 'is', 'adopted', 'to', 'suit', 'the', 'time', 'and', 'opportunity--to', 'practise', 'imposture', 'upon', 'the', 'british', 'and', 'austrian', '_millionaires_', 'in', 'painting', 'and', 'gemmary', 'fortunato', 'like', 'his', 'countrymen', 'was', 'a', 'quack--but', 'in', 'the', 'matter', 'of', 'old', 'wines', 'he', 'was', 'sincere', 'in', 'this', 'respect', 'i', 'did', 'not', 'differ', 'from', 'him', 'materially:', 'i', 'was', 'skilful', 'in', 'the', 'italian', 'vintages', 'myself', 'and', 'bought', 'largely', 'whenever', 'i', 'could', 'it', 'was', 'about', 'dusk', 'one', 'evening', 'during', 'the', 'supreme', 'madness', 'of', 'the', 'carnival', 'season', 'that', 'i', 'encountered', 'my', 'friend', 'he', 'accosted', 'me', 'with', 'excessive', 'warmth', 'for', 'he', 'had', 'been', 'drinking', 'much', 'the', 'man', 'wore', 'motley', 'he', 'had', 'on', 'a', 'tight-fitting', 'parti-striped', 'dress', 'and', 'his', 'head', 'was', 'surmounted', 'by', 'the', 'conical', 'cap', 'and', 'bells', 'i', 'was', 'so', 'pleased', 'to', 'see', 'him', 'that', 'i', 'thought', 'i', 'should', 'never', 'have', 'done', 'wringing', 'his', 'hand', 'i', 'said', 'to', 'him--\"my', 'dear', 'fortunato', 'you', 'are', 'luckily', 'met', 'how', 'remarkably', 'well', 'you', 'are', 'looking', 'to-day', 'but', 'i', 'have', 'received', 'a', 'pipe', 'of', 'what', 'passes', 'for', 'amontillado', 'and', 'i', 'have', 'my', 'doubts.\"', '\"how?\"', 'said', 'he', '\"amontillado', 'a', 'pipe', 'impossible', 'and', 'in', 'the', 'middle', 'of', 'the', 'carnival!\"', '\"i', 'have', 'my', 'doubts,\"', 'i', 'replied;', '\"and', 'i', 'was', 'silly', 'enough', 'to', 'pay', 'the', 'full', 'amontillado', 'price', 'without', 'consulting', 'you', 'in', 'the', 'matter', 'you', 'were', 'not', 'to', 'be', 'found', 'and', 'i', 'was', 'fearful', 'of', 'losing', 'a', 'bargain.\"', '\"amontillado!\"', '\"i', 'have', 'my', 'doubts.\"', '\"amontillado!\"', '\"and', 'i', 'must', 'satisfy', 'them.\"', '\"amontillado!\"', '\"as', 'you', 'are', 'engaged', 'i', 'am', 'on', 'my', 'way', 'to', 'luchesi', 'if', 'any', 'one', 'has', 'a', 'critical', 'turn', 'it', 'is', 'he', 'he', 'will', 'tell', 'me--\"', '\"luchesi', 'cannot', 'tell', 'amontillado', 'from', 'sherry.\"', '\"and', 'yet', 'some', 'fools', 'will', 'have', 'it', 'that', 'his', 'taste', 'is', 'a', 'match', 'for', 'your', 'own.\"', '\"come', 'let', 'us', 'go.\"', '\"whither?\"', '\"to', 'your', 'vaults.\"', '\"my', 'friend', 'no;', 'i', 'will', 'not', 'impose', 'upon', 'your', 'good', 'nature', 'i', 'perceive', 'you', 'have', 'an', 'engagement', 'luchesi--\"', '\"i', 'have', 'no', 'engagement;--come.\"', '\"my', 'friend', 'no', 'it', 'is', 'not', 'the', 'engagement', 'but', 'the', 'severe', 'cold', 'with', 'which', 'i', 'perceive', 'you', 'are', 'afflicted', 'the', 'vaults', 'are', 'insufferably', 'damp', 'they', 'are', 'encrusted', 'with', 'nitre.\"', '\"let', 'us', 'go', 'nevertheless', 'the', 'cold', 'is', 'merely', 'nothing', 'amontillado', 'you', 'have', 'been', 'imposed', 'upon', 'and', 'as', 'for', 'luchesi', 'he', 'cannot', 'distinguish', 'sherry', 'from', 'amontillado.\"', 'thus', 'speaking', 'fortunato', 'possessed', 'himself', 'of', 'my', 'arm', 'putting', 'on', 'a', 'mask', 'of', 'black', 'silk', 'and', 'drawing', 'a', '_roquelaire_', 'closely', 'about', 'my', 'person', 'i', 'suffered', 'him', 'to', 'hurry', 'me', 'to', 'my', 'palazzo', 'there', 'were', 'no', 'attendants', 'at', 'home;', 'they', 'had', 'absconded', 'to', 'make', 'merry', 'in', 'honor', 'of', 'the', 'time', 'i', 'had', 'told', 'them', 'that', 'i', 'should', 'not', 'return', 'until', 'the', 'morning', 'and', 'had', 'given', 'them', 'explicit', 'orders', 'not', 'to', 'stir', 'from', 'the', 'house', 'these', 'orders', 'were', 'sufficient', 'i', 'well', 'knew', 'to', 'insure', 'their', 'immediate', 'disappearance', 'one', 'and', 'all', 'as', 'soon', 'as', 'my', 'back', 'was', 'turned', 'i', 'took', 'from', 'their', 'sconces', 'two', 'flambeaux', 'and', 'giving', 'one', 'to', 'fortunato', 'bowed', 'him', 'through', 'several', 'suites', 'of', 'rooms', 'to', 'the', 'archway', 'that', 'led', 'into', 'the', 'vaults', 'i', 'passed', 'down', 'a', 'long', 'and', 'winding', 'staircase', 'requesting', 'him', 'to', 'be', 'cautious', 'as', 'he', 'followed', 'we', 'came', 'at', 'length', 'to', 'the', 'foot', 'of', 'the', 'descent', 'and', 'stood', 'together', 'on', 'the', 'damp', 'ground', 'of', 'the', 'catacombs', 'of', 'the', 'montresors', 'the', 'gait', 'of', 'my', 'friend', 'was', 'unsteady', 'and', 'the', 'bells', 'upon', 'his', 'cap', 'jingled', 'as', 'he', 'strode', '\"the', 'pipe,\"', 'said', 'he', '\"it', 'is', 'farther', 'on,\"', 'said', 'i;', '\"but', 'observe', 'the', 'white', 'web-work', 'which', 'gleams', 'from', 'these', 'cavern', 'walls.\"', 'he', 'turned', 'towards', 'me', 'and', 'looked', 'into', 'my', 'eyes', 'with', 'two', 'filmy', 'orbs', 'that', 'distilled', 'the', 'rheum', 'of', 'intoxication', '\"nitre?\"', 'he', 'asked', 'at', 'length', '\"nitre,\"', 'i', 'replied', '\"how', 'long', 'have', 'you', 'had', 'that', 'cough?\"', '\"ugh', 'ugh', 'ugh!--ugh', 'ugh', 'ugh!--ugh', 'ugh', 'ugh!--ugh', 'ugh', 'ugh!--ugh', 'ugh', 'ugh!\"', 'my', 'poor', 'friend', 'found', 'it', 'impossible', 'to', 'reply', 'for', 'many', 'minutes', '\"it', 'is', 'nothing,\"', 'he', 'said', 'at', 'last', '\"come,\"', 'i', 'said', 'with', 'decision', '\"we', 'will', 'go', 'back;', 'your', 'health', 'is', 'precious', 'you', 'are', 'rich', 'respected', 'admired', 'beloved;', 'you', 'are', 'happy', 'as', 'once', 'i', 'was', 'you', 'are', 'a', 'man', 'to', 'be', 'missed', 'for', 'me', 'it', 'is', 'no', 'matter', 'we', 'will', 'go', 'back;', 'you', 'will', 'be', 'ill', 'and', 'i', 'cannot', 'be', 'responsible', 'besides', 'there', 'is', 'luchesi--\"', '\"enough,\"', 'he', 'said;', '\"the', 'cough', 'is', 'a', 'mere', 'nothing;', 'it', 'will', 'not', 'kill', 'me', 'i', 'shall', 'not', 'die', 'of', 'a', 'cough.\"', '\"true--true,\"', 'i', 'replied;', '\"and', 'indeed', 'i', 'had', 'no', 'intention', 'of', 'alarming', 'you', 'unnecessarily--but', 'you', 'should', 'use', 'all', 'proper', 'caution', 'a', 'draught', 'of', 'this', 'medoc', 'will', 'defend', 'us', 'from', 'the', 'damps.\"', 'here', 'i', 'knocked', 'off', 'the', 'neck', 'of', 'a', 'bottle', 'which', 'i', 'drew', 'from', 'a', 'long', 'row', 'of', 'its', 'fellows', 'that', 'lay', 'upon', 'the', 'mould', '\"drink,\"', 'i', 'said', 'presenting', 'him', 'the', 'wine', 'he', 'raised', 'it', 'to', 'his', 'lips', 'with', 'a', 'leer', 'he', 'paused', 'and', 'nodded', 'to', 'me', 'familiarly', 'while', 'his', 'bells', 'jingled', '\"i', 'drink,\"', 'he', 'said', '\"to', 'the', 'buried', 'that', 'repose', 'around', 'us.\"', '\"and', 'i', 'to', 'your', 'long', 'life.\"', 'he', 'again', 'took', 'my', 'arm', 'and', 'we', 'proceeded', '\"these', 'vaults,\"', 'he', 'said', '\"are', 'extensive.\"', '\"the', 'montresors,\"', 'i', 'replied', '\"were', 'a', 'great', 'and', 'numerous', 'family.\"', '\"i', 'forget', 'your', 'arms.\"', '\"a', 'huge', 'human', 'foot', \"d'or\", 'in', 'a', 'field', 'azure;', 'the', 'foot', 'crushes', 'a', 'serpent', 'rampant', 'whose', 'fangs', 'are', 'imbedded', 'in', 'the', 'heel.\"', '\"and', 'the', 'motto?\"', '\"_nemo', 'me', 'impune', 'lacessit_.\"', '\"good!\"', 'he', 'said', 'the', 'wine', 'sparkled', 'in', 'his', 'eyes', 'and', 'the', 'bells', 'jingled', 'my', 'own', 'fancy', 'grew', 'warm', 'with', 'the', 'medoc', 'we', 'had', 'passed', 'through', 'walls', 'of', 'piled', 'bones', 'with', 'casks', 'and', 'puncheons', 'intermingling', 'into', 'the', 'inmost', 'recesses', 'of', 'the', 'catacombs', 'i', 'paused', 'again', 'and', 'this', 'time', 'i', 'made', 'bold', 'to', 'seize', 'fortunato', 'by', 'an', 'arm', 'above', 'the', 'elbow', '\"the', 'nitre!\"', 'i', 'said:', '\"see', 'it', 'increases', 'it', 'hangs', 'like', 'moss', 'upon', 'the', 'vaults', 'we', 'are', 'below', 'the', \"river's\", 'bed', 'the', 'drops', 'of', 'moisture', 'trickle', 'among', 'the', 'bones', 'come', 'we', 'will', 'go', 'back', 'ere', 'it', 'is', 'too', 'late', 'your', 'cough--\"', '\"it', 'is', 'nothing,\"', 'he', 'said;', '\"let', 'us', 'go', 'on', 'but', 'first', 'another', 'draught', 'of', 'the', 'medoc.\"', 'i', 'broke', 'and', 'reached', 'him', 'a', 'flagon', 'of', 'de', 'grave', 'he', 'emptied', 'it', 'at', 'a', 'breath', 'his', 'eyes', 'flashed', 'with', 'a', 'fierce', 'light', 'he', 'laughed', 'and', 'threw', 'the', 'bottle', 'upwards', 'with', 'a', 'gesticulation', 'i', 'did', 'not', 'understand', 'i', 'looked', 'at', 'him', 'in', 'surprise', 'he', 'repeated', 'the', 'movement--a', 'grotesque', 'one', '\"you', 'do', 'not', 'comprehend?\"', 'he', 'said', '\"not', 'i,\"', 'i', 'replied', '\"then', 'you', 'are', 'not', 'of', 'the', 'brotherhood.\"', '\"how?\"', '\"you', 'are', 'not', 'of', 'the', 'masons.\"', '\"yes', 'yes,\"', 'i', 'said', '\"yes', 'yes.\"', '\"you', 'impossible', 'a', 'mason?\"', '\"a', 'mason,\"', 'i', 'replied', '\"a', 'sign,\"', 'he', 'said', '\"it', 'is', 'this,\"', 'i', 'answered', 'producing', 'a', 'trowel', 'from', 'beneath', 'the', 'folds', 'of', 'my', '_roquelaire_', '\"you', 'jest,\"', 'he', 'exclaimed', 'recoiling', 'a', 'few', 'paces', '\"but', 'let', 'us', 'proceed', 'to', 'the', 'amontillado.\"', '\"be', 'it', 'so,\"', 'i', 'said', 'replacing', 'the', 'tool', 'beneath', 'the', 'cloak', 'and', 'again', 'offering', 'him', 'my', 'arm', 'he', 'leaned', 'upon', 'it', 'heavily', 'we', 'continued', 'our', 'route', 'in', 'search', 'of', 'the', 'amontillado', 'we', 'passed', 'through', 'a', 'range', 'of', 'low', 'arches', 'descended', 'passed', 'on', 'and', 'descending', 'again', 'arrived', 'at', 'a', 'deep', 'crypt', 'in', 'which', 'the', 'foulness', 'of', 'the', 'air', 'caused', 'our', 'flambeaux', 'rather', 'to', 'glow', 'than', 'flame', 'at', 'the', 'most', 'remote', 'end', 'of', 'the', 'crypt', 'there', 'appeared', 'another', 'less', 'spacious', 'its', 'walls', 'had', 'been', 'lined', 'with', 'human', 'remains', 'piled', 'to', 'the', 'vault', 'overhead', 'in', 'the', 'fashion', 'of', 'the', 'great', 'catacombs', 'of', 'paris', 'three', 'sides', 'of', 'this', 'interior', 'crypt', 'were', 'still', 'ornamented', 'in', 'this', 'manner', 'from', 'the', 'fourth', 'the', 'bones', 'had', 'been', 'thrown', 'down', 'and', 'lay', 'promiscuously', 'upon', 'the', 'earth', 'forming', 'at', 'one', 'point', 'a', 'mound', 'of', 'some', 'size', 'within', 'the', 'wall', 'thus', 'exposed', 'by', 'the', 'displacing', 'of', 'the', 'bones', 'we', 'perceived', 'a', 'still', 'interior', 'recess', 'in', 'depth', 'about', 'four', 'feet', 'in', 'width', 'three', 'in', 'height', 'six', 'or', 'seven', 'it', 'seemed', 'to', 'have', 'been', 'constructed', 'for', 'no', 'especial', 'use', 'in', 'itself', 'but', 'formed', 'merely', 'the', 'interval', 'between', 'two', 'of', 'the', 'colossal', 'supports', 'of', 'the', 'roof', 'of', 'the', 'catacombs', 'and', 'was', 'backed', 'by', 'one', 'of', 'their', 'circumscribing', 'walls', 'of', 'solid', 'granite', 'it', 'was', 'in', 'vain', 'that', 'fortunato', 'uplifting', 'his', 'dull', 'torch', 'endeavored', 'to', 'pry', 'into', 'the', 'depths', 'of', 'the', 'recess', 'its', 'termination', 'the', 'feeble', 'light', 'did', 'not', 'enable', 'us', 'to', 'see', '\"proceed,\"', 'i', 'said;', '\"herein', 'is', 'the', 'amontillado', 'as', 'for', 'luchesi--\"', '\"he', 'is', 'an', 'ignoramus,\"', 'interrupted', 'my', 'friend', 'as', 'he', 'stepped', 'unsteadily', 'forward', 'while', 'i', 'followed', 'immediately', 'at', 'his', 'heels', 'in', 'an', 'instant', 'he', 'had', 'reached', 'the', 'extremity', 'of', 'the', 'niche', 'and', 'finding', 'his', 'progress', 'arrested', 'by', 'the', 'rock', 'stood', 'stupidly', 'bewildered', 'a', 'moment', 'more', 'and', 'i', 'had', 'fettered', 'him', 'to', 'the', 'granite', 'in', 'its', 'surface', 'were', 'two', 'iron', 'staples', 'distant', 'from', 'each', 'other', 'about', 'two', 'feet', 'horizontally', 'from', 'one', 'of', 'these', 'depended', 'a', 'short', 'chain', 'from', 'the', 'other', 'a', 'padlock', 'throwing', 'the', 'links', 'about', 'his', 'waist', 'it', 'was', 'but', 'the', 'work', 'of', 'a', 'few', 'seconds', 'to', 'secure', 'it', 'he', 'was', 'too', 'much', 'astounded', 'to', 'resist', 'withdrawing', 'the', 'key', 'i', 'stepped', 'back', 'from', 'the', 'recess', '\"pass', 'your', 'hand,\"', 'i', 'said', '\"over', 'the', 'wall;', 'you', 'cannot', 'help', 'feeling', 'the', 'nitre', 'indeed', 'it', 'is', '_very_', 'damp', 'once', 'more', 'let', 'me', '_implore_', 'you', 'to', 'return', 'no', 'then', 'i', 'must', 'positively', 'leave', 'you', 'but', 'i', 'must', 'first', 'render', 'you', 'all', 'the', 'little', 'attentions', 'in', 'my', 'power.\"', '\"the', 'amontillado!\"', 'ejaculated', 'my', 'friend', 'not', 'yet', 'recovered', 'from', 'his', 'astonishment', '\"true,\"', 'i', 'replied;', '\"the', 'amontillado.\"', 'as', 'i', 'said', 'these', 'words', 'i', 'busied', 'myself', 'among', 'the', 'pile', 'of', 'bones', 'of', 'which', 'i', 'have', 'before', 'spoken', 'throwing', 'them', 'aside', 'i', 'soon', 'uncovered', 'a', 'quantity', 'of', 'building', 'stone', 'and', 'mortar', 'with', 'these', 'materials', 'and', 'with', 'the', 'aid', 'of', 'my', 'trowel', 'i', 'began', 'vigorously', 'to', 'wall', 'up', 'the', 'entrance', 'of', 'the', 'niche', 'i', 'had', 'scarcely', 'laid', 'the', 'first', 'tier', 'of', 'my', 'masonry', 'when', 'i', 'discovered', 'that', 'the', 'intoxication', 'of', 'fortunato', 'had', 'in', 'a', 'great', 'measure', 'worn', 'off', 'the', 'earliest', 'indication', 'i', 'had', 'of', 'this', 'was', 'a', 'low', 'moaning', 'cry', 'from', 'the', 'depth', 'of', 'the', 'recess', 'it', 'was', '_not_', 'the', 'cry', 'of', 'a', 'drunken', 'man', 'there', 'was', 'then', 'a', 'long', 'and', 'obstinate', 'silence', 'i', 'laid', 'the', 'second', 'tier', 'and', 'the', 'third', 'and', 'the', 'fourth;', 'and', 'then', 'i', 'heard', 'the', 'furious', 'vibrations', 'of', 'the', 'chain', 'the', 'noise', 'lasted', 'for', 'several', 'minutes', 'during', 'which', 'that', 'i', 'might', 'hearken', 'to', 'it', 'with', 'the', 'more', 'satisfaction', 'i', 'ceased', 'my', 'labors', 'and', 'sat', 'down', 'upon', 'the', 'bones', 'when', 'at', 'last', 'the', 'clanking', 'subsided', 'i', 'resumed', 'the', 'trowel', 'and', 'finished', 'without', 'interruption', 'the', 'fifth', 'the', 'sixth', 'and', 'the', 'seventh', 'tier', 'the', 'wall', 'was', 'now', 'nearly', 'upon', 'a', 'level', 'with', 'my', 'breast', 'i', 'again', 'paused', 'and', 'holding', 'the', 'flambeaux', 'over', 'the', 'mason-work', 'threw', 'a', 'few', 'feeble', 'rays', 'upon', 'the', 'figure', 'within', 'a', 'succession', 'of', 'loud', 'and', 'shrill', 'screams', 'bursting', 'suddenly', 'from', 'the', 'throat', 'of', 'the', 'chained', 'form', 'seemed', 'to', 'thrust', 'me', 'violently', 'back', 'for', 'a', 'brief', 'moment', 'i', 'hesitated--i', 'trembled', 'unsheathing', 'my', 'rapier', 'i', 'began', 'to', 'grope', 'with', 'it', 'about', 'the', 'recess:', 'but', 'the', 'thought', 'of', 'an', 'instant', 'reassured', 'me', 'i', 'placed', 'my', 'hand', 'upon', 'the', 'solid', 'fabric', 'of', 'the', 'catacombs', 'and', 'felt', 'satisfied', 'i', 'reapproached', 'the', 'wall', 'i', 'replied', 'to', 'the', 'yells', 'of', 'him', 'who', 'clamored', 'i', 're-echoed--i', 'aided--i', 'surpassed', 'them', 'in', 'volume', 'and', 'in', 'strength', 'i', 'did', 'this', 'and', 'the', 'clamorer', 'grew', 'still', 'it', 'was', 'now', 'midnight', 'and', 'my', 'task', 'was', 'drawing', 'to', 'a', 'close', 'i', 'had', 'completed', 'the', 'eighth', 'the', 'ninth', 'and', 'the', 'tenth', 'tier', 'i', 'had', 'finished', 'a', 'portion', 'of', 'the', 'last', 'and', 'the', 'eleventh;', 'there', 'remained', 'but', 'a', 'single', 'stone', 'to', 'be', 'fitted', 'and', 'plastered', 'in', 'i', 'struggled', 'with', 'its', 'weight;', 'i', 'placed', 'it', 'partially', 'in', 'its', 'destined', 'position', 'but', 'now', 'there', 'came', 'from', 'out', 'the', 'niche', 'a', 'low', 'laugh', 'that', 'erected', 'the', 'hairs', 'upon', 'my', 'head', 'it', 'was', 'succeeded', 'by', 'a', 'sad', 'voice', 'which', 'i', 'had', 'difficulty', 'in', 'recognising', 'as', 'that', 'of', 'the', 'noble', 'fortunato', 'the', 'voice', 'said--', '\"ha', 'ha', 'ha!--he', 'he!--a', 'very', 'good', 'joke', 'indeed--an', 'excellent', 'jest', 'we', 'will', 'have', 'many', 'a', 'rich', 'laugh', 'about', 'it', 'at', 'the', 'palazzo--he', 'he', 'he!--over', 'our', 'wine--he', 'he', 'he!\"', '\"the', 'amontillado!\"', 'i', 'said', '\"he', 'he', 'he!--he', 'he', 'he!--yes', 'the', 'amontillado', 'but', 'is', 'it', 'not', 'getting', 'late', 'will', 'not', 'they', 'be', 'awaiting', 'us', 'at', 'the', 'palazzo', 'the', 'lady', 'fortunato', 'and', 'the', 'rest', 'let', 'us', 'be', 'gone.\"', '\"yes,\"', 'i', 'said', '\"let', 'us', 'be', 'gone.\"', '\"_for', 'the', 'love', 'of', 'god', 'montressor!_\"', '\"yes,\"', 'i', 'said', '\"for', 'the', 'love', 'of', 'god!\"', 'but', 'to', 'these', 'words', 'i', 'hearkened', 'in', 'vain', 'for', 'a', 'reply', 'i', 'grew', 'impatient', 'i', 'called', 'aloud--', '\"fortunato!\"', 'no', 'answer', 'i', 'called', 'again--', '\"fortunato!\"', 'no', 'answer', 'still', 'i', 'thrust', 'a', 'torch', 'through', 'the', 'remaining', 'aperture', 'and', 'let', 'it', 'fall', 'within', 'there', 'came', 'forth', 'in', 'return', 'only', 'a', 'jingling', 'of', 'the', 'bells', 'my', 'heart', 'grew', 'sick--on', 'account', 'of', 'the', 'dampness', 'of', 'the', 'catacombs', 'i', 'hastened', 'to', 'make', 'an', 'end', 'of', 'my', 'labor', 'i', 'forced', 'the', 'last', 'stone', 'into', 'its', 'position;', 'i', 'plastered', 'it', 'up', 'against', 'the', 'new', 'masonry', 'i', 're-erected', 'the', 'old', 'rampart', 'of', 'bones', 'for', 'the', 'half', 'of', 'a', 'century', 'no', 'mortal', 'has', 'disturbed', 'them', '_in', 'pace', 'requiescat!_']\n"
     ]
    }
   ],
   "source": [
    "def display_cont(file_name):\n",
    "    fp = open(file_name)\n",
    "    buffer = fp.readlines()\n",
    "#     print(buffer)\n",
    "    count=0\n",
    "    clean_words = []\n",
    "    for line in buffer:\n",
    "        words = line.split()\n",
    "        for word in words:\n",
    "            clean_words.append(word.lower().strip('.,?!'))\n",
    "    print(clean_words)\n",
    "        \n",
    "        \n",
    "        \n",
    "        \n",
    "#         if \"Forunato\" in line:\n",
    "#             count+= 1\n",
    "#     return count\n",
    "\n",
    "display_cont(\"pc_amontillado.txt\")"
   ]
  },
  {
   "cell_type": "markdown",
   "metadata": {},
   "source": [
    "-----"
   ]
  },
  {
   "cell_type": "markdown",
   "metadata": {},
   "source": [
    "**Can we double strip?**"
   ]
  },
  {
   "cell_type": "code",
   "execution_count": 9,
   "metadata": {},
   "outputs": [
    {
     "name": "stdout",
     "output_type": "stream",
     "text": [
      "Tis but thy ame that is my enemy \n",
      "Thou art thyself though ot a Montague \n",
      "What's Montague it is or hand or foot \n",
      "Nor arm or face or any other part \n",
      "Belonging to a ma O be some other ame \n",
      "What's i a ame That which we call a rose \n",
      "By any other ame would smell as sweet \n",
      "So Romeo would were he ot Romeo call'd \n",
      "Retai that dear perfectio which he owes \n",
      "Without that title Romeo doff thy ame \n",
      "And for that ame which is o part of thee \n",
      "Take all myself \n"
     ]
    }
   ],
   "source": [
    "# Mirroring pc_rose.txt.\n",
    "\n",
    "def reverse_lines(input_name, output_name):\n",
    "    fi=open(input_name, \"r\")\n",
    "    fo=open(output_name, \"w\")\n",
    "    \n",
    "    buffer = fi.readlines()\n",
    "    \n",
    "    for line in buffer:\n",
    "        clean_line = line.split()\n",
    "        cleaned = \"\"\n",
    "        for word in clean_line:\n",
    "            cleaned += word.strip(\".,!?\\::;''n\") + \" \"\n",
    "        print(cleaned)\n",
    "#        doubstrip = clean_line.strip(\".,\")\n",
    "    \n",
    "    fo.write(cleaned[::-1])\n",
    "\n",
    "            \n",
    "\n",
    "    fi.close()\n",
    "    fo.close()\n",
    "\n",
    "reverse_lines(\"pc_rose.txt\", \"pc_writetestirene.txt\")"
   ]
  },
  {
   "cell_type": "markdown",
   "metadata": {},
   "source": [
    "----"
   ]
  },
  {
   "cell_type": "markdown",
   "metadata": {},
   "source": [
    "**Exercise**: In the code block below, write some code that adds up the sizes of all the files in the `pcdata` directory, and prints the result. **FER** NB 11"
   ]
  },
  {
   "cell_type": "code",
   "execution_count": null,
   "metadata": {},
   "outputs": [],
   "source": []
  },
  {
   "cell_type": "markdown",
   "metadata": {},
   "source": [
    "-------"
   ]
  },
  {
   "cell_type": "markdown",
   "metadata": {},
   "source": [
    "# Fer tots els exercicis del NB 11"
   ]
  },
  {
   "cell_type": "markdown",
   "metadata": {},
   "source": [
    "**[NB11]**Write a program that reads the contents of the file \"`pc_woodchuck.txt`\", splits it into words (where everything that is not a letter is considered a word boundary), and case-insensitively builds a dictionary that stores for every word how often it occurs in the text. Then print all the words with their quantities in alphabetical order. - FER AMB DICCIONARIS"
   ]
  },
  {
   "cell_type": "code",
   "execution_count": null,
   "metadata": {},
   "outputs": [],
   "source": [
    "# Counting words in pc_woodchuck.txt.\n",
    "fp = open( \"pc_rose.txt\")\n",
    "text = fp.readlines()\n",
    "for lines in text:\n",
    "    split_text = lines.split()\n",
    "    print(split_text)\n",
    "fp.close()\n"
   ]
  },
  {
   "cell_type": "markdown",
   "metadata": {},
   "source": [
    "-----"
   ]
  },
  {
   "cell_type": "markdown",
   "metadata": {},
   "source": [
    "**Interessant saber:** MIRAR TOTS ELS METODES DE LES LLISTES"
   ]
  },
  {
   "cell_type": "code",
   "execution_count": 18,
   "metadata": {},
   "outputs": [
    {
     "name": "stdout",
     "output_type": "stream",
     "text": [
      "999\n",
      "129\n",
      "2645\n",
      "False\n",
      "True\n",
      "0\n"
     ]
    }
   ],
   "source": [
    "numlist = [314, 315, 642, 246, 129, 999]\n",
    "print( max( numlist ) )\n",
    "print( min( numlist ) )\n",
    "print( sum( numlist ) )\n",
    "print( 100 in numlist )\n",
    "print( 999 in numlist )\n",
    "\n",
    "print(numlist.index(314))"
   ]
  },
  {
   "cell_type": "markdown",
   "metadata": {},
   "source": [
    "**SOLVED** \n",
    "\n",
    "\n",
    "**Es pot fer .find a llistes? Com puc buscar l'index d un element de la llista?:**\n",
    "\n",
    "Strings --> .find(x)\n",
    "\n",
    "Llistes --> .index(x)\n",
    "\n",
    "(no l'index pero el valor!) Diccionaris --> diccionary[key]\n",
    "\n",
    "o\n",
    "\n",
    ".get(x,0)  --> pots afegir un extra argument per si el valor no existeix. En lloc de retornar-te error, et retorna el numero que has fet servir al segon argument"
   ]
  },
  {
   "cell_type": "code",
   "execution_count": 12,
   "metadata": {},
   "outputs": [
    {
     "name": "stdout",
     "output_type": "stream",
     "text": [
      "1\n"
     ]
    }
   ],
   "source": [
    "fruitlist = [\"apple\", \"banana\", \"cherry\", \"banana\", \"durian\"]\n",
    "print( fruitlist.index( \"banana\" ) )"
   ]
  },
  {
   "cell_type": "markdown",
   "metadata": {},
   "source": [
    "---"
   ]
  },
  {
   "cell_type": "markdown",
   "metadata": {},
   "source": [
    "**Exercise**: Count how often each letter occurs in a string (case-insensitively). You can ignore every character that is not a letter. Of course, you should not introduce 26 variables to do this; instead, use a list of 26 items that all start at zero. Print the resulting counts. As index for the list you can use `ord(letter) - ord(\"a\")`, where letter is a lower case letter (the `ord()` function is explained in the strings chapter)."
   ]
  },
  {
   "cell_type": "code",
   "execution_count": 10,
   "metadata": {},
   "outputs": [],
   "source": [
    "# Letter counting.\n",
    "text = \"\"\"Now, it's quite simple to defend yourself against a man armed\n",
    "with a banana. First of all you force him to drop the banana; then, \n",
    "second, you eat the banana, thus disarming him. You have now rendered \n",
    "him helpless.\"\"\"\n"
   ]
  },
  {
   "cell_type": "markdown",
   "metadata": {},
   "source": [
    "---"
   ]
  },
  {
   "cell_type": "markdown",
   "metadata": {},
   "source": [
    "**No esta complet. Crec que ho fare millor amb diccionaris ** A playing card consists of a suit (\"Hearts\", \"Spades\", \"Clubs\", or \"Diamonds\") and a value (\"Ace\", 2, 3, 4, 5, 6, 7, 8, 9, 10, \"Jack\", \"Queen\", \"King\"). Create a list of all possible playing cards, which is a deck. Then create a function that shuffles the deck, producing a random order."
   ]
  },
  {
   "cell_type": "code",
   "execution_count": 11,
   "metadata": {},
   "outputs": [
    {
     "name": "stdout",
     "output_type": "stream",
     "text": [
      "['Hearts', 'Ace', 2, 3, 4, 5, 6, 7, 8, 9, 10, 'Jack', 'Queen', 'King', 'Spades', 'Ace', 2, 3, 4, 5, 6, 7, 8, 9, 10, 'Jack', 'Queen', 'King', 'Clubs', 'Ace', 2, 3, 4, 5, 6, 7, 8, 9, 10, 'Jack', 'Queen', 'King', 'Diamonds', 'Ace', 2, 3, 4, 5, 6, 7, 8, 9, 10, 'Jack', 'Queen', 'King']\n"
     ]
    }
   ],
   "source": [
    "# Shuffling a deck.\n",
    "cards = [\"Hearts\", \"Spades\", \"Clubs\", \"Diamonds\"]\n",
    "values = [\"Ace\", 2, 3, 4, 5, 6, 7, 8, 9, 10, \"Jack\", \"Queen\", \"King\"]\n",
    "\n",
    "deck = []\n",
    "for i in cards:\n",
    "    deck.extend([i] + values)\n",
    "\n",
    "print (deck)"
   ]
  },
  {
   "cell_type": "markdown",
   "metadata": {},
   "source": [
    "---"
   ]
  },
  {
   "cell_type": "markdown",
   "metadata": {},
   "source": [
    "**EXERCICI 12.3** Count how often each letter occurs in a string (case-insensitively). You can ignore every character that is not a letter. Print the letters with their counts, in order from highest count to lowest count."
   ]
  },
  {
   "cell_type": "code",
   "execution_count": null,
   "metadata": {},
   "outputs": [],
   "source": [
    "text = \"maria\"\n",
    "\n",
    "listcounts = []\n",
    "\n",
    "for i in range(len(text)):\n",
    "    listcounts.extend([text[i], 0])\n",
    "    if text[i] is in \n",
    "\n",
    "    \n",
    "print(listcounts)"
   ]
  },
  {
   "cell_type": "code",
   "execution_count": 16,
   "metadata": {},
   "outputs": [
    {
     "name": "stdout",
     "output_type": "stream",
     "text": [
      "[['m', 1], ['a', 2], ['r', 1], ['i', 1]]\n"
     ]
    }
   ],
   "source": [
    "text = \"maria\"\n",
    "letters = []\n",
    "\n",
    "for i in text:\n",
    "    if i not in letters:\n",
    "        letters.append(i)\n",
    "        \n",
    "counts = []\n",
    "counts = [0]*len(letters)\n",
    "\n",
    "for i in text: \n",
    "    if i in letters:\n",
    "        counts[letters.index(i)] += 1\n",
    "\n",
    "result = []\n",
    "for i in range(len(letters)):\n",
    "    block = [letters[i], counts[i]]\n",
    "    result.append(block)\n",
    "\n",
    "\n",
    "print (result)\n",
    "        \n"
   ]
  },
  {
   "cell_type": "markdown",
   "metadata": {},
   "source": [
    "---"
   ]
  },
  {
   "cell_type": "markdown",
   "metadata": {},
   "source": [
    "Fer tots els exercicis del final del 12"
   ]
  },
  {
   "cell_type": "markdown",
   "metadata": {},
   "source": [
    "---"
   ]
  },
  {
   "cell_type": "markdown",
   "metadata": {},
   "source": [
    "Mirar bé"
   ]
  },
  {
   "cell_type": "code",
   "execution_count": 19,
   "metadata": {},
   "outputs": [
    {
     "name": "stdout",
     "output_type": "stream",
     "text": [
      "822164: Computer Games (6)\n",
      "u234178: 4\n",
      "u223416: 9\n",
      "u123456: 7.5\n",
      "u383213: 6\n",
      "\n",
      "880254: Research Skills Data Processing (3)\n",
      "u234178: 6\n",
      "u123456: 8\n",
      "u383213: 7.5\n",
      "\n",
      "822177: Understanding Intelligence (6)\n",
      "u234178: 9\n",
      "u223416: 7\n",
      "u123456: 5\n",
      "\n"
     ]
    }
   ],
   "source": [
    "courses = {\n",
    "    '880254': \n",
    "    { \"name\":\"Research Skills Data Processing\", \"ects\":3, \n",
    "      \"students\":{'u123456':8, 'u383213':7.5, 'u234178':6} }, \n",
    "    '822177': \n",
    "    { \"name\":\"Understanding Intelligence\", \"ects\":6,\n",
    "     \"students\":{'u123456':5, 'u223416':7, 'u234178':9} }, \n",
    "    '822164': \n",
    "    { \"name\":\"Computer Games\", \"ects\":6,\n",
    "     \"students\":{'u123456':7.5, 'u223416':9, 'u383213':6, 'u234178':4} } }\n",
    "\n",
    "for c in courses:\n",
    "    print( \"{}: {} ({})\".format( c, courses[c][\"name\"], courses[c][\"ects\"] ) )\n",
    "    for s in courses[c][\"students\"]:\n",
    "        print( \"{}: {}\".format( s, courses[c][\"students\"][s] ) )\n",
    "    print()"
   ]
  },
  {
   "cell_type": "code",
   "execution_count": null,
   "metadata": {},
   "outputs": [],
   "source": []
  },
  {
   "cell_type": "markdown",
   "metadata": {},
   "source": [
    "Mirar les notebooks d apunts. Sobretot les útlimes"
   ]
  },
  {
   "cell_type": "code",
   "execution_count": null,
   "metadata": {},
   "outputs": [],
   "source": []
  }
 ],
 "metadata": {
  "kernelspec": {
   "display_name": "Python 3",
   "language": "python",
   "name": "python3"
  },
  "language_info": {
   "codemirror_mode": {
    "name": "ipython",
    "version": 3
   },
   "file_extension": ".py",
   "mimetype": "text/x-python",
   "name": "python",
   "nbconvert_exporter": "python",
   "pygments_lexer": "ipython3",
   "version": "3.5.3"
  }
 },
 "nbformat": 4,
 "nbformat_minor": 2
}
