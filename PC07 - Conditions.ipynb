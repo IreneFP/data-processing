{
 "cells": [
  {
   "cell_type": "markdown",
   "metadata": {},
   "source": [
    "# Chapter 7 - Conditions"
   ]
  },
  {
   "cell_type": "markdown",
   "metadata": {},
   "source": [
    "-------------------------------"
   ]
  },
  {
   "cell_type": "markdown",
   "metadata": {},
   "source": [
    "In program code, there are often statements that you only want to execute when certain conditions hold. Every programming language therefore supports conditional statements. In this chapter we will explain how to use conditions in Python."
   ]
  },
  {
   "cell_type": "markdown",
   "metadata": {},
   "source": [
    "---"
   ]
  },
  {
   "cell_type": "markdown",
   "metadata": {},
   "source": [
    "## Boolean expressions"
   ]
  },
  {
   "cell_type": "markdown",
   "metadata": {},
   "source": [
    "A conditional statement, often called an \"if\"-statement, consists of a test and one or more actions. The test is a so-called \"boolean expression\". The actions are executed when the test evaluates to `True`. For instance, an app on a smartphone might give a warning if the battery level is lower than 5%. This means that the app needs to check if a certain variable `battery_level` is lower than the value 5, i.e., if the comparison `battery_level < 5` evaluates to `True`. If the variable `battery_level` currently holds the value `17`, then `battery_level < 5` evaluates to `False`."
   ]
  },
  {
   "cell_type": "markdown",
   "metadata": {},
   "source": [
    "### Booleans"
   ]
  },
  {
   "cell_type": "markdown",
   "metadata": {},
   "source": [
    "`True` and `False` are so-called \"boolean values\" that are predefined in Python. `True` and `False` are the <i>only</i> boolean values, and anything that is not `False`, is `True`.\n",
    "\n",
    "You might wonder what the data type of `True` and `False` is. The answer is that they are of the type `bool`. However, in Python <i>every</i> value can be interpreted as a boolean value, regardless of its data type. I.e., when you test a condition, and your test is of a value that is not `True` or `False`, it will still be interpreted as either `True` or `False`.\n",
    "\n",
    "The following values are interpreted as `False`:\n",
    "- The special value `False`\n",
    "- The special value `None` (more about that in the next chapter)\n",
    "- Every numerical value that is zero, e.g., `0` and `0.0`\n",
    "- Every empty sequence, e.g., an empty string (`\"\"`)\n",
    "- Every empty \"mapping\", e.g., an empty dictionary (dictionaries follow in a later chapter)\n",
    "- Any function or method call that returns one of these listed values (this includes functions that return nothing; more about that in the next chapter)\n",
    "\n",
    "Every other value is interpreted as `True`. \n",
    "\n",
    "Any expression that is evaluated as `True` or `False` is called a \"boolean expression\"."
   ]
  },
  {
   "cell_type": "markdown",
   "metadata": {},
   "source": [
    "### Comparisons"
   ]
  },
  {
   "cell_type": "markdown",
   "metadata": {},
   "source": [
    "The most common boolean expressions are comparisons. A comparison consists of two values, and a comparison operator in between. Comparison operators are:\n",
    "\n",
    "    <    less than\n",
    "    <=   less than or equal to\n",
    "    ==   equal to\n",
    "    >=   equal to or greater than\n",
    "    >    greater than\n",
    "    !=   not equal\n",
    "\n",
    "A common mistake is to use a single `=` as a comparison operator, but the single `=` is the assignment operator. In general, Python will produce a syntax or runtime error if you try to use a single `=` to make a a comparison.\n",
    "\n",
    "You can use the comparison operators to compare both numbers and strings. Comparison for strings is an alphabetical comparison, whereby all **capitals come before all lower case letters (and digits come before both of them). ** Numbers, CAPITALS, lowercase\n",
    "\n",
    "Here are some examples of the results of comparisons:"
   ]
  },
  {
   "cell_type": "code",
   "execution_count": 4,
   "metadata": {},
   "outputs": [
    {
     "name": "stdout",
     "output_type": "stream",
     "text": [
      "1. True\n",
      "2. True\n",
      "3. False\n",
      "4. True\n",
      "5. True\n",
      "6. False\n",
      "7. True\n",
      "8. False\n",
      "9. False\n",
      "10. True\n",
      "11. True\n",
      "12. True\n",
      "13. False\n",
      "False\n"
     ]
    }
   ],
   "source": [
    "print( \"1.\", 2 < 5 )\n",
    "print( \"2.\", 2 <= 5 )\n",
    "print( \"3.\", 3 > 3 )\n",
    "print( \"4.\", 3 >= 3 )\n",
    "print( \"5.\", 3 == 3.0 )\n",
    "print( \"6.\", 3 == \"3\" )\n",
    "print( \"7.\", \"syntax\" == \"syntax\" )\n",
    "print( \"8.\", \"syntax\" == \"semantics\" )\n",
    "print( \"9.\", \"syntax\" == \" syntax\" )\n",
    "print( \"10.\", \"Python\" != \"rubbish\" )\n",
    "print( \"11.\", \"Python\" > \"Perl\" )\n",
    "print( \"12.\", \"banana\" < \"orange\" ) # ?¿ \n",
    "print( \"13.\", \"banana\" < \"Orange\" ) # ?¿ \n",
    "print( \"o\" == int)"
   ]
  },
  {
   "cell_type": "markdown",
   "metadata": {},
   "source": [
    "Make sure that you understand these evaluations!\n",
    "\n",
    "You can assign the outcome of a boolean expression to a variable if you like:"
   ]
  },
  {
   "cell_type": "code",
   "execution_count": 5,
   "metadata": {},
   "outputs": [
    {
     "name": "stdout",
     "output_type": "stream",
     "text": [
      "True\n",
      "False\n",
      "<class 'bool'>\n"
     ]
    }
   ],
   "source": [
    "greater = 5 > 2\n",
    "print( greater )\n",
    "greater = 5 < 2\n",
    "print( greater )\n",
    "print( type( greater ) )"
   ]
  },
  {
   "cell_type": "markdown",
   "metadata": {},
   "source": [
    "**Exercise**: Write some code that allows you to test if `1/2` is greater than, equal to, or less than `0.5`. Do the same for `1/3` and `0.33`. Then do the same for `(1/3)*3` and `1`."
   ]
  },
  {
   "cell_type": "code",
   "execution_count": 8,
   "metadata": {},
   "outputs": [
    {
     "data": {
      "text/plain": [
       "True"
      ]
     },
     "execution_count": 8,
     "metadata": {},
     "output_type": "execute_result"
    }
   ],
   "source": [
    "1/2 == 0.5"
   ]
  },
  {
   "cell_type": "code",
   "execution_count": null,
   "metadata": {},
   "outputs": [],
   "source": []
  },
  {
   "cell_type": "code",
   "execution_count": 9,
   "metadata": {},
   "outputs": [
    {
     "name": "stdout",
     "output_type": "stream",
     "text": [
      "greater =  False\n",
      "equal =  True\n",
      "less =  False\n",
      "greater =  True\n",
      "equal =  False\n",
      "less =  False\n",
      "greater =  False\n",
      "equal =  True\n",
      "less =  False\n"
     ]
    }
   ],
   "source": [
    "# Test some comparisons.\n",
    "greater = 1/2 > 0.5\n",
    "equal = 1/2 == 0.5\n",
    "less = 1/2 < 0.5\n",
    "\n",
    "print (\"greater = \", greater)\n",
    "print (\"equal = \", equal)\n",
    "print (\"less = \", less)\n",
    "\n",
    "\n",
    "greater = 1/3 > 0.33\n",
    "equal = 1/3 == 0.33\n",
    "less = 1/3 < 0.33\n",
    "\n",
    "print (\"greater = \", greater)\n",
    "print (\"equal = \", equal)\n",
    "print (\"less = \", less)\n",
    "\n",
    "\n",
    "greater = (1/3)*3 > 1\n",
    "equal = (1/3)*3 == 1\n",
    "less = (1/3)*3 < 1\n",
    "\n",
    "print (\"greater = \", greater)\n",
    "print (\"equal = \", equal)\n",
    "print (\"less = \", less)\n",
    "\n"
   ]
  },
  {
   "cell_type": "markdown",
   "metadata": {},
   "source": [
    "Comparisons of data types that cannot be compared, in general lead to runtime errors."
   ]
  },
  {
   "cell_type": "code",
   "execution_count": 10,
   "metadata": {
    "scrolled": true
   },
   "outputs": [
    {
     "ename": "TypeError",
     "evalue": "unorderable types: int() < str()",
     "output_type": "error",
     "traceback": [
      "\u001b[0;31m---------------------------------------------------------------------------\u001b[0m",
      "\u001b[0;31mTypeError\u001b[0m                                 Traceback (most recent call last)",
      "\u001b[0;32m<ipython-input-10-ee7dc9f694ad>\u001b[0m in \u001b[0;36m<module>\u001b[0;34m()\u001b[0m\n\u001b[1;32m      1\u001b[0m \u001b[0;31m# This code gives a runtime error.\u001b[0m\u001b[0;34m\u001b[0m\u001b[0;34m\u001b[0m\u001b[0m\n\u001b[0;32m----> 2\u001b[0;31m \u001b[0mprint\u001b[0m\u001b[0;34m(\u001b[0m \u001b[0;36m3\u001b[0m \u001b[0;34m<\u001b[0m \u001b[0;34m\"3\"\u001b[0m \u001b[0;34m)\u001b[0m\u001b[0;34m\u001b[0m\u001b[0m\n\u001b[0m",
      "\u001b[0;31mTypeError\u001b[0m: unorderable types: int() < str()"
     ]
    }
   ],
   "source": [
    "# This code gives a runtime error.\n",
    "print( 3 < \"3\" )"
   ]
  },
  {
   "cell_type": "markdown",
   "metadata": {},
   "source": [
    "Functions can return a boolean value. The following code defines a function `isPositive` which returns `True` if its parameter is a positive number, and `False` otherwise:"
   ]
  },
  {
   "cell_type": "code",
   "execution_count": 11,
   "metadata": {},
   "outputs": [
    {
     "name": "stdout",
     "output_type": "stream",
     "text": [
      "True\n"
     ]
    }
   ],
   "source": [
    "def is_positive (n):\n",
    "    return n >= 0\n",
    "\n",
    "print(is_positive(3))"
   ]
  },
  {
   "cell_type": "code",
   "execution_count": 19,
   "metadata": {},
   "outputs": [
    {
     "name": "stdout",
     "output_type": "stream",
     "text": [
      "True\n",
      "False\n"
     ]
    }
   ],
   "source": [
    "def isPositive(number):\n",
    "    return number >= 0\n",
    "\n",
    "print(isPositive(4))\n",
    "print(isPositive(-12.4))"
   ]
  },
  {
   "cell_type": "code",
   "execution_count": 14,
   "metadata": {},
   "outputs": [
    {
     "data": {
      "text/plain": [
       "False"
      ]
     },
     "execution_count": 14,
     "metadata": {},
     "output_type": "execute_result"
    }
   ],
   "source": [
    "def is_negative(n):\n",
    "    return n < 0\n",
    "\n",
    "is_negative (0)"
   ]
  },
  {
   "cell_type": "markdown",
   "metadata": {},
   "source": [
    "**Exercise**: Write a function `isNegative` which returns `True` if its parameter is a negative number, and `False` otherwise."
   ]
  },
  {
   "cell_type": "code",
   "execution_count": 47,
   "metadata": {},
   "outputs": [
    {
     "name": "stdout",
     "output_type": "stream",
     "text": [
      "True\n",
      "False\n"
     ]
    }
   ],
   "source": [
    "def isNegative (text):\n",
    "    return text < 0\n",
    "\n",
    "print (isNegative(-2))\n",
    "print (isNegative(2))"
   ]
  },
  {
   "cell_type": "markdown",
   "metadata": {},
   "source": [
    "###  `in` operator"
   ]
  },
  {
   "cell_type": "markdown",
   "metadata": {},
   "source": [
    "Python has a special operator called the \"membership test operator\", which is usually abbreviated to the \"in operator\" as it is written as `in`. The `in` operator tests if the value to the left side of the operator is found in the collection to the right side of the operator.\n",
    "\n",
    "At this time, we have discussed only one \"collection\", which is the string. A string is a collection of characters. You can test if a particular character or a sequence of characters is part of the string using the `in` operator. The opposite of the `in` operator is the `not in` operator, which gives `True` when `in` gives `False`, and which gives `False` when `in` gives `True`. \n",
    "\n",
    "For example:"
   ]
  },
  {
   "cell_type": "code",
   "execution_count": 15,
   "metadata": {},
   "outputs": [
    {
     "name": "stdout",
     "output_type": "stream",
     "text": [
      "True\n",
      "False\n",
      "False\n",
      "True\n",
      "False\n",
      "False\n"
     ]
    }
   ],
   "source": [
    "print( \"y\" in \"Python\" )\n",
    "print( \"x\" in \"Python\" )\n",
    "print( \"p\" in \"Python\" )\n",
    "print( \"th\" in \"Python\" )\n",
    "print( \"to\" in \"Python\" )\n",
    "print( \"y\" not in \"Python\" )"
   ]
  },
  {
   "cell_type": "code",
   "execution_count": 22,
   "metadata": {},
   "outputs": [],
   "source": [
    "def same_letters (text1, text2):\n",
    "    for i in text1:\n",
    "        if i in text2:\n",
    "            print (i)\n",
    "        \n"
   ]
  },
  {
   "cell_type": "code",
   "execution_count": 25,
   "metadata": {},
   "outputs": [
    {
     "name": "stdout",
     "output_type": "stream",
     "text": [
      "i\n",
      "n\n"
     ]
    }
   ],
   "source": [
    "same_letters (\"irene\", \"monica\")"
   ]
  },
  {
   "cell_type": "markdown",
   "metadata": {},
   "source": [
    "Make sure that you understand these evaluations!\n",
    "\n",
    "Again, a function can return a boolean value using the `in` operator. For example, the following function `hasComma` returns True if its parameter contains a comma, and False otherwise:"
   ]
  },
  {
   "cell_type": "code",
   "execution_count": 27,
   "metadata": {},
   "outputs": [
    {
     "name": "stdout",
     "output_type": "stream",
     "text": [
      "False\n",
      "True\n",
      "False\n"
     ]
    }
   ],
   "source": [
    "def hasComma(text):\n",
    "    return \",\" in text\n",
    "\n",
    "print(hasComma(\"no commas here!\"))\n",
    "print(hasComma(\"yes, this one has one.\"))\n",
    "print(hasComma(\"3\"))                              # ?¿?¿"
   ]
  },
  {
   "cell_type": "markdown",
   "metadata": {},
   "source": [
    "**Exercise**: Write a function that returns `True` if its parameter does not have any periods in it."
   ]
  },
  {
   "cell_type": "code",
   "execution_count": 29,
   "metadata": {},
   "outputs": [
    {
     "data": {
      "text/plain": [
       "False"
      ]
     },
     "execution_count": 29,
     "metadata": {},
     "output_type": "execute_result"
    }
   ],
   "source": [
    "def no_periods (text):\n",
    "    return \".\" in text\n",
    "\n",
    "no_periods (\"this\")"
   ]
  },
  {
   "cell_type": "code",
   "execution_count": 28,
   "metadata": {},
   "outputs": [
    {
     "name": "stdout",
     "output_type": "stream",
     "text": [
      "False\n",
      "True\n"
     ]
    }
   ],
   "source": [
    "def hasNoPeriod(text):\n",
    "    return \".\" not in text\n",
    "\n",
    "print (hasNoPeriod(\"this has .\"))\n",
    "print (hasNoPeriod(\"this has\"))"
   ]
  },
  {
   "cell_type": "code",
   "execution_count": null,
   "metadata": {},
   "outputs": [],
   "source": []
  },
  {
   "cell_type": "code",
   "execution_count": null,
   "metadata": {},
   "outputs": [],
   "source": []
  },
  {
   "cell_type": "code",
   "execution_count": null,
   "metadata": {},
   "outputs": [],
   "source": []
  },
  {
   "cell_type": "markdown",
   "metadata": {},
   "source": [
    "### Logical operators"
   ]
  },
  {
   "cell_type": "markdown",
   "metadata": {},
   "source": [
    "Boolean expressions can be combined with logical operators. There are three logical operators, `and`, `or`, and `not`.\n",
    "\n",
    "`and` and `or` are placed between two boolean expressions. When `and` is between two boolean expressions, the result is `True` if and only if both expressions evaluate to `True`; otherwise it is `False`. When `or` is between two boolean expressions, the result is `True` when one or both of the expressions evaluate to `True`; it is only `False` if both expressions evaluate to `False`.\n",
    "\n",
    "`not` is placed in front of a boolean expression to switch it from `True` to `False` or vice versa.\n",
    "\n",
    "For example:"
   ]
  },
  {
   "cell_type": "code",
   "execution_count": 29,
   "metadata": {},
   "outputs": [
    {
     "name": "stdout",
     "output_type": "stream",
     "text": [
      "True\n",
      "False\n",
      "False\n",
      "False\n",
      "True\n",
      "True\n",
      "True\n",
      "False\n",
      "False\n",
      "True\n"
     ]
    }
   ],
   "source": [
    "t = True\n",
    "f = False\n",
    "\n",
    "print( t and t )\n",
    "print( t and f )\n",
    "print( f and t )\n",
    "print( f and f )\n",
    "\n",
    "print( t or t )\n",
    "print( t or f )\n",
    "print( f or t )\n",
    "print( f or f )\n",
    "\n",
    "print( not t )\n",
    "print( not f )"
   ]
  },
  {
   "cell_type": "markdown",
   "metadata": {},
   "source": [
    "You have to be careful with logical operators, because combinations of `and`s and `or`s might lead to unexpected results. To ensure that they are evaluated in the order that you intend, you can use parentheses. For example, rather than writing \"`a and b or c`\" you should write \"`(a and b) or c`\" or \"`a and (b or c)`\" (depending on the order in which you want to evaluate the logical operators), so that it is immediately clear from your code which evaluation you want the code to do. Even if you know the order in which the logical operators are processed by Python, someone else who reads your code might not. \n",
    "\n",
    "**Exercise**: In the code block below, give values `True` or `False` to each of the variables `a`, `b`, and `c`, so that the two expressions evaluate to different values."
   ]
  },
  {
   "cell_type": "code",
   "execution_count": 33,
   "metadata": {},
   "outputs": [
    {
     "name": "stdout",
     "output_type": "stream",
     "text": [
      "True\n",
      "False\n"
     ]
    }
   ],
   "source": [
    "c = True\n",
    "a = False\n",
    "b = False\n",
    "print ((a and b) or c)\n",
    "print (a and (b or c))"
   ]
  },
  {
   "cell_type": "code",
   "execution_count": 34,
   "metadata": {},
   "outputs": [
    {
     "name": "stdout",
     "output_type": "stream",
     "text": [
      "True\n",
      "False\n"
     ]
    }
   ],
   "source": [
    "a =  False\n",
    "b =  False\n",
    "c =  True\n",
    "print( (a and b) or c )\n",
    "print( a and (b or c) )          # HAVE A LOOK AT THIS!!"
   ]
  },
  {
   "cell_type": "code",
   "execution_count": null,
   "metadata": {},
   "outputs": [],
   "source": []
  },
  {
   "cell_type": "markdown",
   "metadata": {},
   "source": [
    "If all the logical operators in a boolean expression are `and`, or they all are `or`, the use of parentheses is not needed, since there is only one possible evaluation of the expression.\n",
    "\n",
    "Boolean expressions are processed from left to right, and Python will stop the processing of an expression when it already knows whether it will end in `True` or `False`. Take, for instance, the following code:"
   ]
  },
  {
   "cell_type": "code",
   "execution_count": 37,
   "metadata": {},
   "outputs": [
    {
     "name": "stdout",
     "output_type": "stream",
     "text": [
      "True\n"
     ]
    }
   ],
   "source": [
    "x = 1\n",
    "y = 0\n",
    "print( (x == 0) or (y == 0) or (x / y == 1) )"
   ]
  },
  {
   "cell_type": "markdown",
   "metadata": {},
   "source": [
    "When you divide by zero, Python gives a runtime error, so the expression `x / y == 1` crashes the program if `y` is zero. And `y` actually is zero. However, when Python processed the whole boolean expression, at the point where it tested `y == 0` it determined that the expression as a whole is `True`, because if any of the expressions that are connected by an `or` to the expression as a whole is `True`, then the whole expression is `True`. So there was no need for Python to determine the value of `x / y == 1`, and it did not even attempt to evaluate it. Of course, the test `y == 0` must be to the *left* of `x / y == 1`, so that Python will test `y == 0` first.\n",
    "\n",
    "Note: While you can make truly complex boolean expressions using logical operators, you should keep your expressions simple if possible. Simple boolean expressions make code readable.\n",
    "\n",
    "Now let's define a function that returns checks whether its parameter contains a punctuation mark (comma, period, question mark, exclamation mark):"
   ]
  },
  {
   "cell_type": "code",
   "execution_count": 38,
   "metadata": {},
   "outputs": [
    {
     "name": "stdout",
     "output_type": "stream",
     "text": [
      "True\n",
      "True\n",
      "False\n"
     ]
    }
   ],
   "source": [
    "def hasPunctuation(text):\n",
    "    return (',' in text) or ('.' in text) or ('!' in text) or ('?' in text)\n",
    "\n",
    "print(hasPunctuation(\"anything?!\"))\n",
    "print(hasPunctuation(\"nothing.\"))\n",
    "print(hasPunctuation(\"pure text\"))"
   ]
  },
  {
   "cell_type": "code",
   "execution_count": 36,
   "metadata": {},
   "outputs": [
    {
     "name": "stdout",
     "output_type": "stream",
     "text": [
      "True\n",
      "False\n",
      "False\n"
     ]
    }
   ],
   "source": [
    "def hasPunctuation2(text):\n",
    "    return \",.!?\" in text\n",
    "\n",
    "print(hasPunctuation2(\"anything?!,.!?\"))\n",
    "print(hasPunctuation2(\"nothing.\"))\n",
    "print(hasPunctuation2(\"pure text\"))"
   ]
  },
  {
   "cell_type": "markdown",
   "metadata": {},
   "source": [
    "**Exercise**: Write a function that tests for each vowel whether it occurs in its parameter (you may ignore capitals). Then write another function that returns `True` if the parameter has no vowels:"
   ]
  },
  {
   "cell_type": "code",
   "execution_count": 40,
   "metadata": {},
   "outputs": [
    {
     "data": {
      "text/plain": [
       "False"
      ]
     },
     "execution_count": 40,
     "metadata": {},
     "output_type": "execute_result"
    }
   ],
   "source": [
    "def vowel (text):\n",
    "    return (\"a\" in text) or (\"e\" in text) or (\"i\" in text)\n",
    "    \n",
    "vowel (\"mw\")"
   ]
  },
  {
   "cell_type": "code",
   "execution_count": 59,
   "metadata": {},
   "outputs": [],
   "source": [
    "def vowel2 (text):\n",
    "    for i in text:\n",
    "        if i in \"aeiouAEIOU\":\n",
    "            print (i)\n",
    "            return True\n",
    "    else:\n",
    "        return False\n",
    "\n",
    "       "
   ]
  },
  {
   "cell_type": "code",
   "execution_count": 60,
   "metadata": {},
   "outputs": [
    {
     "name": "stdout",
     "output_type": "stream",
     "text": [
      "A\n"
     ]
    },
    {
     "data": {
      "text/plain": [
       "True"
      ]
     },
     "execution_count": 60,
     "metadata": {},
     "output_type": "execute_result"
    }
   ],
   "source": [
    "vowel2 (\"mwA\")"
   ]
  },
  {
   "cell_type": "code",
   "execution_count": null,
   "metadata": {},
   "outputs": [],
   "source": []
  },
  {
   "cell_type": "code",
   "execution_count": 55,
   "metadata": {},
   "outputs": [
    {
     "name": "stdout",
     "output_type": "stream",
     "text": [
      "True\n",
      "True\n",
      "False\n"
     ]
    }
   ],
   "source": [
    "def hasVowel(text):\n",
    "    return (\"a\" in text) or (\"e\" in text) or (\"i\" in text) or (\"o\" in text) or (\"u\" in text)\n",
    "\n",
    "def haNoVowel(text):\n",
    "    return (\"a\" not in text) and (\"e\" not in text) and (\"i\" not in text) and (\"o\" not in text) and (\"u\" not in text) #?¿?¿\n",
    "\n",
    "print (hasVowel(\"hi\"))\n",
    "print (haNoVowel(\"hyd\"))\n",
    "print (haNoVowel(\"hello\"))\n"
   ]
  },
  {
   "cell_type": "markdown",
   "metadata": {},
   "source": [
    "---"
   ]
  },
  {
   "cell_type": "markdown",
   "metadata": {},
   "source": [
    "## Conditional statements"
   ]
  },
  {
   "cell_type": "markdown",
   "metadata": {},
   "source": [
    "Conditional statements are, as the introduction to this chapter said, statements consisting of a test and one or more actions, whereby the actions only get executed if the test evaluates to `True`. Conditional statements are also called \"if-statements\", as they are written using the special keyword `if`.\n",
    "\n",
    "Here is an example:"
   ]
  },
  {
   "cell_type": "code",
   "execution_count": 63,
   "metadata": {},
   "outputs": [
    {
     "name": "stdout",
     "output_type": "stream",
     "text": [
      "x equals 5\n"
     ]
    }
   ],
   "source": [
    "x = 9\n",
    "if x < 10:\n",
    "    print( \"x equals 5\" )"
   ]
  },
  {
   "cell_type": "markdown",
   "metadata": {},
   "source": [
    "The syntax of the `if` statement is as follows:\n",
    "\n",
    "    if <boolean expression>:\n",
    "        <statements>\n",
    "\n",
    "Note the colon (`:`) after the boolean expression, and the fact that `<statements>` is indented."
   ]
  },
  {
   "cell_type": "markdown",
   "metadata": {},
   "source": [
    "### Code blocks"
   ]
  },
  {
   "cell_type": "markdown",
   "metadata": {},
   "source": [
    "In the syntactic description of the `if` statement shown above, you see that the `<statements>` are \"indented\", i.e., they are placed one tabulation to the right. This is intentional and <u>necessary</u>. Python considers statements that are following each other and that are at the same level of indentation part of a code block. The code block underneath the first line of the `if` statement is considered to be the list of actions that are executed when the boolean expression evaluates to `True`.\n",
    "\n",
    "For example:"
   ]
  },
  {
   "cell_type": "code",
   "execution_count": 65,
   "metadata": {},
   "outputs": [
    {
     "name": "stdout",
     "output_type": "stream",
     "text": [
      "This line is only executed if x < 10.\n",
      "And the same holds for this line.\n",
      "This line, however, is always executed.\n"
     ]
    }
   ],
   "source": [
    "x = 7\n",
    "if x < 10:\n",
    "    print( \"This line is only executed if x < 10.\" )\n",
    "    print( \"And the same holds for this line.\" )\n",
    "print( \"This line, however, is always executed.\" )"
   ]
  },
  {
   "cell_type": "markdown",
   "metadata": {},
   "source": [
    "**Exercise**: Change the value of `x` to see how it affects the outcome of the code.\n",
    "\n",
    "Thus, all the statements under the `if` that are indented, belong to the code block that is executed when the boolean expression of the `if` statement evaluates to `True`. This code block is skipped if the boolean expression evaluates to `False`. Statements which follow the `if` construction which are not indented (as deep as the code block under the `if`), are executed, regardless of whether the boolean expression evaluates to `True` or `False`.\n",
    "\n",
    "Now let's write a function that returns `Positive` if its parameter is a positive number, and `Negative` otherwise:"
   ]
  },
  {
   "cell_type": "code",
   "execution_count": 66,
   "metadata": {},
   "outputs": [
    {
     "name": "stdout",
     "output_type": "stream",
     "text": [
      "Negative\n",
      "Positive\n"
     ]
    }
   ],
   "source": [
    "def polarity(number):\n",
    "    if (number >= 0):\n",
    "        return \"Positive\"\n",
    "    return \"Negative\"\n",
    "\n",
    "print(polarity(-8))\n",
    "print(polarity(45))"
   ]
  },
  {
   "cell_type": "markdown",
   "metadata": {},
   "source": [
    "Naturally, you are not restricted to having just a single `if` statement in your code. You can have as many as you like:"
   ]
  },
  {
   "cell_type": "code",
   "execution_count": 72,
   "metadata": {},
   "outputs": [
    {
     "name": "stdout",
     "output_type": "stream",
     "text": [
      "x equals 5\n",
      "x is greater than 4\n",
      "x is greater than or equal to 5\n",
      "x is less than 6\n",
      "x is less than or equal to 5\n",
      "x does not equal 6\n",
      "None\n"
     ]
    }
   ],
   "source": [
    "def print_status(x):\n",
    "    if x == 5: \n",
    "        print( \"x equals 5\" )\n",
    "    if x > 4: \n",
    "        print( \"x is greater than 4\" )\n",
    "    if  x >= 5:\n",
    "        print( \"x is greater than or equal to 5\" )\n",
    "    if x < 6: \n",
    "        print( \"x is less than 6\" ) \n",
    "    if x <= 5:\n",
    "        print( \"x is less than or equal to 5\" )\n",
    "    if x != 6 :\n",
    "        print( \"x does not equal 6\" )\n",
    "        \n",
    "print(print_status(5))"
   ]
  },
  {
   "cell_type": "markdown",
   "metadata": {},
   "source": [
    "**Exercise**: Test this function by giving it different parameters and see how it affects the outcome."
   ]
  },
  {
   "cell_type": "markdown",
   "metadata": {},
   "source": [
    "### Indentation"
   ]
  },
  {
   "cell_type": "markdown",
   "metadata": {},
   "source": [
    "In Python, __correct indenting is of the utmost importance__! Without correct indentation, Python will not be able to recognize which statements belong together as one code block, and therefore cannot execute your code correctly.\n",
    "\n",
    "**Side note**: In many programming languages (actually, in almost all programming languages), code blocks are recognized by having them start and end with a specific symbol or keyword. For instance, in languages such as Java and C++, code blocks are enclosed by curly brackets, while in languages such as Pascal and Modula, code blocks are started with the keyword `begin` and ended with the keyword `end`. That means that in almost all languages, indenting to recognize code blocks is not necessary. However, you will find that code written by capable programmers is always nicely indented, regardless of the language. This makes it easy to see which code belongs together, for instance, which commands belong to an `if` statement. Python makes indenting a requirement. While for experienced programmers who are new to Python this seems strange at first, they quickly find that they do not care -- they were indenting nicely anyway, and Python's strategy makes that beginning programmers are also required to write nice-looking code.\n",
    "\n",
    "Note that you can indent using the *Tab* key, or indent using spaces. Most editors (including the editor in these notebooks) will auto-indent for you, i.e., if, for instance, you write the first line of an `if` statement, once you press *Enter* to go to the next line, it will automatically \"jump in\" one level of indentation (if it does not, it is very likely that you forgot the colon at the end of the conditional expression). Also, when you have indented one line to a certain level of indentation, the next line will use the same level. You can get rid of indentations using the *Backspace* key.\n",
    "\n",
    "For Python programs, a normal level of indentation is four spaces, i.e., one press of the *Tab* key should \"jump in\" four spaces. As long as you are in one editor, you can in such a case either use the *Tab* key, or press the spacebar four times, to go up one indentation level. So far so good. You may get into problems, however, if you port your code to another editor, which might have a different setting for the *Tab* key. If you edit your code in a such a different editor, even though it might look okay, Python may see that there are indentation conflicts (a mix of tabulations and space-indentations) and may report a syntax error when you try to run your code. Most editors therefore offer the option to automatically replace tabulations with spaces, so that such problems do not arise. If you use a text editor to write Python code, check if it contains such an option, and if so, ensure that tabulations are set to 4 and are automatically replaced by spaces.\n",
    "\n",
    "**Exercise**: The following code contains multiple indentation errors. Fix them all."
   ]
  },
  {
   "cell_type": "code",
   "execution_count": 78,
   "metadata": {},
   "outputs": [
    {
     "name": "stdout",
     "output_type": "stream",
     "text": [
      "x is 3\n",
      "y is 4\n",
      "x > 2\n",
      "y < 5\n",
      "x < 4\n",
      "y > 3\n"
     ]
    }
   ],
   "source": [
    "x = 3\n",
    "y = 4\n",
    "if x == 3 and y == 4:\n",
    "    print( \"x is 3\" )\n",
    "    print( \"y is 4\" )\n",
    "if x > 2 and y < 5:\n",
    "    print( \"x > 2\" )\n",
    "    print( \"y < 5\" )\n",
    "if x < 4 and y > 3:\n",
    "    print( \"x < 4\" )\n",
    "    print( \"y > 3\" )"
   ]
  },
  {
   "cell_type": "markdown",
   "metadata": {},
   "source": [
    "### Two-way decisions"
   ]
  },
  {
   "cell_type": "markdown",
   "metadata": {},
   "source": [
    "Often a decision branches, e.g., if a certain condition arises, you want to take a particular action, but if it does not arise, you want to take another action. This is supported by Python in the form of an expansion to the `if` statement that adds an `else` branch:"
   ]
  },
  {
   "cell_type": "code",
   "execution_count": 82,
   "metadata": {},
   "outputs": [
    {
     "name": "stdout",
     "output_type": "stream",
     "text": [
      "4444 is bigger than 2\n"
     ]
    }
   ],
   "source": [
    "def bigger_than_two(x):\n",
    "    if x > 2:\n",
    "        print( x, \"is bigger than 2\" )\n",
    "    else:\n",
    "        print( \"smaller than or equal to 2\" ) \n",
    "        \n",
    "bigger_than_two(4444)"
   ]
  },
  {
   "cell_type": "markdown",
   "metadata": {},
   "source": [
    "The syntax is as follows:\n",
    "\n",
    "    if <boolean expression>:\n",
    "        <statements>\n",
    "    else:\n",
    "        <statements>\n",
    "\n",
    "Note the colon (`:`) after both the boolean expression and the `else`.\n",
    "\n",
    "It is important that the word `else` is aligned with the word `if` that it belongs to. If you do not align them correctly, this results in an indentation error.\n",
    "\n",
    "A consequence of adding an `else` branch to an `if` statement is that always exactly one of the two code blocks will be executed. If the boolean expression of the `if` statement evaluates to `True`, the code block directly under the `if` will be executed, and the code block directly under the `else` will be skipped. If it evaluates to `False`, the code block directly under the `if` will be skipped, while the code block directly under the `else` will be executed.\n",
    "\n",
    "**Exercise**: Write a function `isOdd` which returns `True` if its integer parameter is odd or `False` if it's even. You can use the modulo operator. Test your function with different parameter values."
   ]
  },
  {
   "cell_type": "code",
   "execution_count": 64,
   "metadata": {},
   "outputs": [],
   "source": [
    "def isOdd (n):\n",
    "    if n%2 == 0:\n",
    "        return False\n",
    "    else:\n",
    "        return True"
   ]
  },
  {
   "cell_type": "code",
   "execution_count": 65,
   "metadata": {},
   "outputs": [
    {
     "name": "stdout",
     "output_type": "stream",
     "text": [
      "True\n"
     ]
    }
   ],
   "source": [
    "print(isOdd(3))"
   ]
  },
  {
   "cell_type": "code",
   "execution_count": null,
   "metadata": {},
   "outputs": [],
   "source": []
  },
  {
   "cell_type": "code",
   "execution_count": 87,
   "metadata": {},
   "outputs": [
    {
     "name": "stdout",
     "output_type": "stream",
     "text": [
      "True\n"
     ]
    }
   ],
   "source": [
    "def isOdd(number):\n",
    "    if number%2 == 0:\n",
    "        return False\n",
    "    else: \n",
    "        return True\n",
    "\n",
    "print(isOdd(3))"
   ]
  },
  {
   "cell_type": "markdown",
   "metadata": {},
   "source": [
    "Note: As far as indentation is concerned, it is not absolutely necessary to have the code block under the `else` branch use the same number of spaces in indentation as the code block under the `if` branch, as long as the indentation is consistent within the code block. However, accomplished programmers use consistent indentation throughout their programs, which makes it easier to see what the whole `if-else` statement encompasses. For example, in the code below the indentation in the `else` branch uses less spaces than the indentation in the `if` branch. While syntactically correct, it is not the best coding style (and the notebooks don't like that either, considering that it colors the first `print()` in the `else` branch red), and you better use consistent indenting throughout the code."
   ]
  },
  {
   "cell_type": "code",
   "execution_count": 91,
   "metadata": {},
   "outputs": [
    {
     "name": "stdout",
     "output_type": "stream",
     "text": [
      "x is bigger than 2\n",
      "y is smaller than 1\n"
     ]
    }
   ],
   "source": [
    "# Example of syntactically correct but ugly indenting.\n",
    "x = 1\n",
    "y = 3\n",
    "if x > 0 and y < 4:\n",
    "    print( \"x is bigger than 2\" )\n",
    "    print( \"y is smaller than 1\")\n",
    "else:\n",
    "    print( \"x is smaller than or equal to 2\" )\n",
    "    print( \"or y is bigger than or equal to 1\" )"
   ]
  },
  {
   "cell_type": "markdown",
   "metadata": {},
   "source": [
    "### Multi-branch decisions"
   ]
  },
  {
   "cell_type": "markdown",
   "metadata": {},
   "source": [
    "Occasionally, you encounter multi-branch decisions, where one of multiple blocks of commands has to be executed, but never more than one block. Such multi-branch decisions can be implemented using a further expansion of the `if` statement, namely in the form of one or more `elif` statements (`elif` stands for \"else if\"):"
   ]
  },
  {
   "cell_type": "code",
   "execution_count": 77,
   "metadata": {},
   "outputs": [
    {
     "ename": "SyntaxError",
     "evalue": "invalid syntax (<ipython-input-77-cba1a48e85db>, line 4)",
     "output_type": "error",
     "traceback": [
      "\u001b[0;36m  File \u001b[0;32m\"<ipython-input-77-cba1a48e85db>\"\u001b[0;36m, line \u001b[0;32m4\u001b[0m\n\u001b[0;31m    else age < 18:\u001b[0m\n\u001b[0m           ^\u001b[0m\n\u001b[0;31mSyntaxError\u001b[0m\u001b[0;31m:\u001b[0m invalid syntax\n"
     ]
    }
   ],
   "source": [
    "def age_status(age):\n",
    "    if age < 12:\n",
    "        print( \"You're still a child!\" )\n",
    "    elif age < 18:\n",
    "        print( \"You are a teenager!\" )\n",
    "    elif age < 30:\n",
    "        print( \"You're pretty young!\" )\n",
    "    elif age < 50:\n",
    "        print( \"Wisening up, are we?\" )\n",
    "    else:\n",
    "        print( \"Aren't the years weighing heavy on your shoulders?\" )\n",
    "        \n",
    "age_status(12)"
   ]
  },
  {
   "cell_type": "code",
   "execution_count": 69,
   "metadata": {},
   "outputs": [
    {
     "name": "stdout",
     "output_type": "stream",
     "text": [
      "You are a teenager!\n",
      "You're pretty young!\n",
      "Wisening up, are we?\n"
     ]
    }
   ],
   "source": [
    "def age_status(age):\n",
    "    if age < 12:\n",
    "        print( \"You're still a child!\" )\n",
    "    if age < 18:\n",
    "        print( \"You are a teenager!\" )\n",
    "    if age < 30:\n",
    "        print( \"You're pretty young!\" )\n",
    "    if age < 50:\n",
    "        print( \"Wisening up, are we?\" )\n",
    "    else:\n",
    "        print( \"Aren't the years weighing heavy on your shoulders?\" )\n",
    "        \n",
    "age_status(12)"
   ]
  },
  {
   "cell_type": "markdown",
   "metadata": {},
   "source": [
    "Change the parameter value and test the function `age_status`.\n",
    "\n",
    "The syntax is as follows:\n",
    "\n",
    "    if <boolean expression>:\n",
    "        <statements>\n",
    "    elif <boolean expression>:\n",
    "        <statements>\n",
    "    else:\n",
    "        <statements>\n",
    "\n",
    "The syntax above shows only one `elif`, but you can have multiple. The different tests in an `if`-`elif`-`else` construct are executed in order. The first boolean expression that evaluates to `True` will cause the code block that belongs to that expression to be executed. None of the other code blocks of the construct will be executed.\n",
    "\n",
    "In other words: First the boolean expression next to the `if` will be evaluated. If it evaluates to `True`, the code block underneath the `if` will be executed. If it evaluates to `False`, the boolean expression for the first `elif` will be evaluated. If that turns out to be `True`, the code block underneath it will be executed. If it is `False`, Python will check the boolean expression for the next `elif`. Etcetera. Only when all the boolean expressions for the `if` and all of the `elif`s evaluate to `False`, the code block underneath the `else` will be executed.\n",
    "\n",
    "The consequence is that in the code above, for the first `elif`, you do not need to test `age >= 12 and age < 18`. Just testing `age < 18` suffices, because if `age` was smaller than `12`, already the boolean expression for the `if` would have evaluated to `True`, and the boolean expression for the first `elif` would not even have been encountered by Python.\n",
    "\n",
    "Note that the inclusion of the `else` branch is always optional. However, in most cases where we need `elif`s we include it anyway, if only for error checking.\n",
    "\n",
    "**Exercise:** Write a function that takes a parameter `weight`. If `weight` is greater than 20 (kilo's), print: \"There is a $25 surcharge for luggage that is too heavy.\" If `weight` is smaller than 20, print: \"Thank you for your business.\" If `weight` is exactly 20, print: \"Pfew! The weight is just right!\". Test the function for different values of `weight`to make sure your code works."
   ]
  },
  {
   "cell_type": "code",
   "execution_count": 71,
   "metadata": {},
   "outputs": [],
   "source": [
    "def weight (weight):\n",
    "    if weight > 20:\n",
    "        print (\"too much\")\n",
    "    if weight == 20:\n",
    "        print (\"good to go\")\n",
    "    if weight < 20:\n",
    "        print (\"super set\")"
   ]
  },
  {
   "cell_type": "code",
   "execution_count": 75,
   "metadata": {},
   "outputs": [
    {
     "name": "stdout",
     "output_type": "stream",
     "text": [
      "super set\n"
     ]
    }
   ],
   "source": [
    "weight (19)\n"
   ]
  },
  {
   "cell_type": "code",
   "execution_count": 95,
   "metadata": {},
   "outputs": [
    {
     "name": "stdout",
     "output_type": "stream",
     "text": [
      "There is a $25 surcharge for luggage that is too heavy.\n",
      "None\n"
     ]
    }
   ],
   "source": [
    "def luggage_weighting(weight):\n",
    "    if weight > 20:\n",
    "        print (\"There is a $25 surcharge for luggage that is too heavy.\")\n",
    "    if weight < 20:\n",
    "        print (\"Thank you for your business.\")\n",
    "    if weight == 20:\n",
    "        print (\"Pfew! The weight is just right!\")\n",
    "        \n",
    "print(luggage_weighting(21))"
   ]
  },
  {
   "cell_type": "markdown",
   "metadata": {},
   "source": [
    "### Nested conditions"
   ]
  },
  {
   "cell_type": "markdown",
   "metadata": {},
   "source": [
    "Given the rules of the `if-elif-else` statements and identation, it is perfectly possible to use an `if` statement within another `if` statement. This second `if` statement is only executed if the condition for the first `if` statement evaluates to `True`, as it belongs to the code block of the first `if` statement. This is called \"nesting\"."
   ]
  },
  {
   "cell_type": "code",
   "execution_count": 97,
   "metadata": {},
   "outputs": [
    {
     "name": "stdout",
     "output_type": "stream",
     "text": [
      "77 is dividable by both 7 and 11.\n"
     ]
    }
   ],
   "source": [
    "x = 77\n",
    "if x%7 == 0:\n",
    "    # --- Here starts a nested block of code ---\n",
    "    if x%11 == 0:\n",
    "        print( x, \"is dividable by both 7 and 11.\" )\n",
    "    else:\n",
    "        print( x, \"is dividable by 7, but not by 11.\" )\n",
    "    # --- Here ends the nested block of code ---\n",
    "elif x%11 == 0:\n",
    "    print( x, \"is dividable by 11, but not by 7.\" )\n",
    "else:\n",
    "    print( x, \"is dividable by neither 7 nor 11.\" )"
   ]
  },
  {
   "cell_type": "markdown",
   "metadata": {},
   "source": [
    "**Exercise**: Change the value of `x` and observe the results.\n",
    "\n",
    "Note that the example above is just to illustrate nesting; you probably already know different ways of getting the same results that are a bit more readable. In particular, nesting of `if` statements can often be avoided by judicious use of `elif`s. To give an example, here is a \"nested\" example of the `age_status` function given above under the \"Multi-branch decisions\" heading:"
   ]
  },
  {
   "cell_type": "code",
   "execution_count": 98,
   "metadata": {},
   "outputs": [],
   "source": [
    "def age_status(age):\n",
    "    if age < 12:\n",
    "        print( \"You're still a child!\" )\n",
    "    else:\n",
    "        if age < 18:\n",
    "            print( \"You are a teenager!\" )\n",
    "        else:\n",
    "            if age < 30:\n",
    "                print( \"You're pretty young!\" )\n",
    "            else:\n",
    "                if age < 50:\n",
    "                    print( \"Wisening up, are we?\" )\n",
    "                else:\n",
    "                    print( \"Aren't the years weighing heavy on your shoulders?\" )"
   ]
  },
  {
   "cell_type": "markdown",
   "metadata": {},
   "source": [
    "Hopefully you agree that the version with the `elif`s looks better."
   ]
  },
  {
   "cell_type": "markdown",
   "metadata": {},
   "source": [
    "---"
   ]
  },
  {
   "cell_type": "markdown",
   "metadata": {},
   "source": [
    "## Early exits"
   ]
  },
  {
   "cell_type": "markdown",
   "metadata": {},
   "source": [
    "Occasionally it happens that you want to exit a function (or program) early when a certain condition arises. For instance, your function receives and processes an integer value extensively. But if the value cannot be processed, the function should just return an error message. You could write the function that as follows:"
   ]
  },
  {
   "cell_type": "code",
   "execution_count": 100,
   "metadata": {},
   "outputs": [
    {
     "name": "stdout",
     "output_type": "stream",
     "text": [
      "Now I am processing your integer 2\n",
      "Lots and lots of processing\n",
      "Hundreds of lines of code here\n"
     ]
    }
   ],
   "source": [
    "def handle_number(num):\n",
    "    if num < 0:\n",
    "        print( \"I cannot handle a negative integer, you clod!\" )\n",
    "    else:\n",
    "        print( \"Now I am processing your integer\", num )\n",
    "        print( \"Lots and lots of processing\" )\n",
    "        print( \"Hundreds of lines of code here\" )\n",
    "        \n",
    "handle_number(2)"
   ]
  },
  {
   "cell_type": "markdown",
   "metadata": {},
   "source": [
    "It is a bit irritating that most of your program is already one indent deep, while you would have preferred to leave the program at the error message, and then have the rest of the program at the top indent level.\n",
    "\n",
    "You can do that using an early `return` statement:"
   ]
  },
  {
   "cell_type": "code",
   "execution_count": 102,
   "metadata": {},
   "outputs": [
    {
     "name": "stdout",
     "output_type": "stream",
     "text": [
      "I cannot handle a negative integer, you clod!\n"
     ]
    }
   ],
   "source": [
    "def handle_number(num):\n",
    "    if num < 0:\n",
    "        print( \"I cannot handle a negative integer, you clod!\" )\n",
    "        return\n",
    "    \n",
    "    print( \"Now I am processing your integer\", num )\n",
    "    print( \"Lots and lots of processing\" )\n",
    "    print( \"Hundreds of lines of code here\" )\n",
    "    \n",
    "handle_number(-2)"
   ]
  },
  {
   "cell_type": "markdown",
   "metadata": {},
   "source": [
    "When you run call this function with a negative parameter value, the function prints an error message and ends without running the rest of its code. "
   ]
  },
  {
   "cell_type": "markdown",
   "metadata": {},
   "source": [
    "-------"
   ]
  },
  {
   "cell_type": "markdown",
   "metadata": {},
   "source": [
    "## What you learned"
   ]
  },
  {
   "cell_type": "markdown",
   "metadata": {},
   "source": [
    "In this chapter, you learned about:\n",
    "\n",
    "- What boolean expressions are\n",
    "- Boolean values `True` and `False`\n",
    "- Comparisons with `<`, `<=`, `==`, `>`, `>=`, and `!=`\n",
    "- The `in` operator\n",
    "- Logical operators `and`, `or`, and `not`\n",
    "- Conditional statements using `if`, `elif`, and `else`\n",
    "- Code blocks\n",
    "- Indentation\n",
    "- Nested conditions"
   ]
  },
  {
   "cell_type": "markdown",
   "metadata": {},
   "source": [
    "---------"
   ]
  },
  {
   "cell_type": "markdown",
   "metadata": {},
   "source": [
    "## Exercises"
   ]
  },
  {
   "cell_type": "markdown",
   "metadata": {},
   "source": [
    "### Exercise 7.1"
   ]
  },
  {
   "cell_type": "markdown",
   "metadata": {},
   "source": [
    "Grades are values between zero and 10 (both zero and 10 included), and are always rounded to the nearest half point. To translate grades to the American style, 8.5 to 10 become an \"A\", 7.5 and 8 become a \"B\", 6.5 and 7 become a \"C\", 5.5 and 6 become a \"D\", and other grades become an \"F\". Write a function that implements this translation and returns the American translation of the value in the parameter `grade`. If `grade` is lower than zero or higher than 10, the function prints an error message and returns an empty string. You do not need to handle grades that do not end in `.0` or `.5`, though you may do that if you like -- in that case, print an appropriate error message. "
   ]
  },
  {
   "cell_type": "code",
   "execution_count": 84,
   "metadata": {},
   "outputs": [],
   "source": [
    "def convertgrades (n):\n",
    "    if (n*10)%5 != 0:\n",
    "        return (\"error, needs to be 0.5\")\n",
    "    elif n >= 8.5:\n",
    "        return (\"A\")\n",
    "    elif n >= 7.5:\n",
    "        return (\"B\")\n",
    "    elif n >= 5.5:\n",
    "        return (\"D\")\n",
    "    elif n >= 0:\n",
    "        return (\"F\")"
   ]
  },
  {
   "cell_type": "code",
   "execution_count": 86,
   "metadata": {},
   "outputs": [
    {
     "data": {
      "text/plain": [
       "'error, needs to be 0.5'"
      ]
     },
     "execution_count": 86,
     "metadata": {},
     "output_type": "execute_result"
    }
   ],
   "source": [
    "convertgrades (4.6)"
   ]
  },
  {
   "cell_type": "code",
   "execution_count": null,
   "metadata": {},
   "outputs": [],
   "source": []
  },
  {
   "cell_type": "code",
   "execution_count": null,
   "metadata": {},
   "outputs": [],
   "source": []
  },
  {
   "cell_type": "code",
   "execution_count": null,
   "metadata": {},
   "outputs": [],
   "source": []
  },
  {
   "cell_type": "code",
   "execution_count": null,
   "metadata": {},
   "outputs": [],
   "source": []
  },
  {
   "cell_type": "code",
   "execution_count": 129,
   "metadata": {},
   "outputs": [
    {
     "data": {
      "text/plain": [
       "'A'"
      ]
     },
     "execution_count": 129,
     "metadata": {},
     "output_type": "execute_result"
    }
   ],
   "source": [
    "def convert_grade(grade):\n",
    "    if grade == 5.5 or grade == 6:\n",
    "        return \"D\"\n",
    "    elif grade == 6.5 or grade == 7:\n",
    "        return \"C\"\n",
    "    elif grade == 7.5 or grade == 8:\n",
    "        return \"B\"\n",
    "    elif grade == 8.5 or grade == 9 or grade == 9.5 or grade == 10:\n",
    "        return \"A\"\n",
    "    else:\n",
    "        print (\"the system does not suport this number\")\n",
    "\n",
    "convert_grade(10)"
   ]
  },
  {
   "cell_type": "markdown",
   "metadata": {},
   "source": [
    "### Exercise 7.2"
   ]
  },
  {
   "cell_type": "markdown",
   "metadata": {},
   "source": [
    "Can you spot the reasoning error in the following function?"
   ]
  },
  {
   "cell_type": "code",
   "execution_count": 87,
   "metadata": {},
   "outputs": [
    {
     "data": {
      "text/plain": [
       "'D'"
      ]
     },
     "execution_count": 87,
     "metadata": {},
     "output_type": "execute_result"
    }
   ],
   "source": [
    "def give_grade(score):\n",
    "    if score <= 60.0:\n",
    "        grade = 'D'\n",
    "    elif score <= 70.0:\n",
    "        grade = 'C'\n",
    "    elif score <= 80.0:\n",
    "        grade = 'B'\n",
    "    elif score <= 100.0:\n",
    "        grade = 'A'\n",
    "    else:\n",
    "        grade = 'F'\n",
    "    return grade\n",
    "\n",
    "give_grade(58)"
   ]
  },
  {
   "cell_type": "markdown",
   "metadata": {},
   "source": [
    "### Exercise 7.3"
   ]
  },
  {
   "cell_type": "markdown",
   "metadata": {},
   "source": [
    "Define a function that receives a string parameter, and returns an integer indicating how many *different* vowels there are in the string. The capital version of a lower case vowel is considered to be the same vowel. `y` is not considered a vowel. For example, for the string \"Michael Palin\", the function should 3."
   ]
  },
  {
   "cell_type": "code",
   "execution_count": 101,
   "metadata": {},
   "outputs": [
    {
     "data": {
      "text/plain": [
       "5"
      ]
     },
     "execution_count": 101,
     "metadata": {},
     "output_type": "execute_result"
    }
   ],
   "source": [
    "def count_vowels(text):\n",
    "    count = 0\n",
    "\n",
    "    if \"a\" or \"A\" in text:\n",
    "        count += 1\n",
    "    if (\"e\" or \"E\") in text:\n",
    "        count += 1\n",
    "    if \"i\" or \"I\" in text:\n",
    "        count += 1\n",
    "    if \"o\" or \"O\" in text:\n",
    "        count += 1\n",
    "    if \"u\" or \"U\" in text:\n",
    "        count += 1\n",
    "    return count\n",
    "    \n",
    "    #for i in text:\n",
    "     #   if i in \"aeiouAEIOU\":\n",
    "      #      count += 1\n",
    "    #return count\n",
    "\n",
    "count_vowels(\"Michael Palin\")"
   ]
  },
  {
   "cell_type": "code",
   "execution_count": null,
   "metadata": {},
   "outputs": [],
   "source": []
  },
  {
   "cell_type": "code",
   "execution_count": null,
   "metadata": {},
   "outputs": [],
   "source": []
  },
  {
   "cell_type": "code",
   "execution_count": 8,
   "metadata": {},
   "outputs": [
    {
     "name": "stdout",
     "output_type": "stream",
     "text": [
      "1 1 1 1 1\n"
     ]
    }
   ],
   "source": [
    "def vowel_count(word):\n",
    "    a = \"a\"\n",
    "    A = \"A\"\n",
    "    e = \"e\"\n",
    "    E = \"E\"\n",
    "    i = \"i\"\n",
    "    I = \"I\"\n",
    "    o = \"o\"\n",
    "    O = \"O\"\n",
    "    u = \"u\"\n",
    "    U = \"U\"\n",
    "    acount = 0\n",
    "    ecount = 0\n",
    "    icount = 0\n",
    "    ocount = 0\n",
    "    ucount = 0\n",
    "\n",
    "    if A or a in word:\n",
    "         acount = acount + 1\n",
    "\n",
    "    if E or e in word:\n",
    "         ecount = ecount + 1\n",
    "\n",
    "    if I or i in word:\n",
    "         icount = icount + 1\n",
    "\n",
    "    if o or O in word:\n",
    "         ocount = ocount + 1\n",
    "\n",
    "    if u or U in word:\n",
    "         ucount = ucount + 1\n",
    "\n",
    "    print(acount, ecount, icount, ocount, ucount)\n",
    "\n",
    "vowel_count(\"Irene\")"
   ]
  },
  {
   "cell_type": "code",
   "execution_count": 103,
   "metadata": {},
   "outputs": [],
   "source": [
    "def countvowels(string):\n",
    "    num_vowels=0\n",
    "    for char in string:\n",
    "        if char in \"aeiouAEIOU\":\n",
    "           num_vowels = num_vowels+1\n",
    "    return num_vowels"
   ]
  },
  {
   "cell_type": "code",
   "execution_count": 104,
   "metadata": {},
   "outputs": [
    {
     "data": {
      "text/plain": [
       "5"
      ]
     },
     "execution_count": 104,
     "metadata": {},
     "output_type": "execute_result"
    }
   ],
   "source": [
    "countvowels(\"Ireneee\")"
   ]
  },
  {
   "cell_type": "markdown",
   "metadata": {},
   "source": [
    "---"
   ]
  },
  {
   "cell_type": "markdown",
   "metadata": {},
   "source": [
    "End of Chapter 7. Version 1.1."
   ]
  }
 ],
 "metadata": {
  "kernelspec": {
   "display_name": "Python 3",
   "language": "python",
   "name": "python3"
  },
  "language_info": {
   "codemirror_mode": {
    "name": "ipython",
    "version": 3
   },
   "file_extension": ".py",
   "mimetype": "text/x-python",
   "name": "python",
   "nbconvert_exporter": "python",
   "pygments_lexer": "ipython3",
   "version": "3.5.3"
  }
 },
 "nbformat": 4,
 "nbformat_minor": 1
}
