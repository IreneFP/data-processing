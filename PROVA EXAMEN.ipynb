{
 "cells": [
  {
   "cell_type": "markdown",
   "metadata": {},
   "source": [
    "# PREGUNTA 1"
   ]
  },
  {
   "cell_type": "markdown",
   "metadata": {},
   "source": [
    "1a"
   ]
  },
  {
   "cell_type": "code",
   "execution_count": null,
   "metadata": {},
   "outputs": [],
   "source": [
    "def longest_string2(strlist):\n",
    "    maxstr = \"\"\n",
    "    for s in strlist:\n",
    "        if len(s) > len(maxstr):\n",
    "            maxstr = s\n",
    "    return maxstr"
   ]
  },
  {
   "cell_type": "code",
   "execution_count": null,
   "metadata": {},
   "outputs": [],
   "source": [
    "longest_string2([\"a\",\"banana\",\"on\",\"a\",\"plate\"])"
   ]
  },
  {
   "cell_type": "code",
   "execution_count": null,
   "metadata": {},
   "outputs": [],
   "source": []
  },
  {
   "cell_type": "code",
   "execution_count": null,
   "metadata": {},
   "outputs": [],
   "source": []
  },
  {
   "cell_type": "code",
   "execution_count": null,
   "metadata": {},
   "outputs": [],
   "source": []
  },
  {
   "cell_type": "code",
   "execution_count": null,
   "metadata": {},
   "outputs": [],
   "source": []
  },
  {
   "cell_type": "code",
   "execution_count": 1,
   "metadata": {},
   "outputs": [
    {
     "data": {
      "text/plain": [
       "'orjhadgafdsadshagfdhsa'"
      ]
     },
     "execution_count": 1,
     "metadata": {},
     "output_type": "execute_result"
    }
   ],
   "source": [
    "def longest_string(strlist):\n",
    "    maxstr = \" \"\n",
    "    for s in strlist:\n",
    "        if len(s) > len(maxstr):\n",
    "            maxstr = s\n",
    "    return maxstr\n",
    "\n",
    "longest_string([\"a\",\"banana\",\"on\",\"a\",\"plate\", \"orjhadgafdsadshagfdhsa\"])"
   ]
  },
  {
   "cell_type": "markdown",
   "metadata": {},
   "source": [
    "1b"
   ]
  },
  {
   "cell_type": "code",
   "execution_count": 2,
   "metadata": {},
   "outputs": [],
   "source": [
    " def get_odd_numbers2(numbers):\n",
    "    oddNumbers = []\n",
    "    for i in numbers:\n",
    "        if i%2 !=0:\n",
    "            oddNumbers.append(i)\n",
    "    return oddNumbers"
   ]
  },
  {
   "cell_type": "code",
   "execution_count": null,
   "metadata": {},
   "outputs": [],
   "source": [
    "get_odd_numbers2([1,4,3,7,2,9,11])"
   ]
  },
  {
   "cell_type": "code",
   "execution_count": null,
   "metadata": {},
   "outputs": [],
   "source": []
  },
  {
   "cell_type": "code",
   "execution_count": null,
   "metadata": {},
   "outputs": [],
   "source": []
  },
  {
   "cell_type": "code",
   "execution_count": null,
   "metadata": {},
   "outputs": [],
   "source": []
  },
  {
   "cell_type": "code",
   "execution_count": null,
   "metadata": {},
   "outputs": [],
   "source": []
  },
  {
   "cell_type": "code",
   "execution_count": null,
   "metadata": {},
   "outputs": [],
   "source": []
  },
  {
   "cell_type": "code",
   "execution_count": null,
   "metadata": {},
   "outputs": [],
   "source": [
    "def get_odd_numbers(numbers):\n",
    "    oddNumbers = []\n",
    "    for i in numbers:\n",
    "        if i%2 !=0:\n",
    "            oddNumbers.append(i)\n",
    "    return oddNumbers\n",
    "\n",
    "get_odd_numbers([1,4,3,7,2,9,11])"
   ]
  },
  {
   "cell_type": "markdown",
   "metadata": {},
   "source": [
    "# PREGUNTA 2"
   ]
  },
  {
   "cell_type": "markdown",
   "metadata": {},
   "source": [
    "2a"
   ]
  },
  {
   "cell_type": "code",
   "execution_count": 1,
   "metadata": {},
   "outputs": [],
   "source": [
    " def read_lexicon2(lex_file_name):\n",
    "        fp = open(lex_file_name)\n",
    "        buffer = fp.readlines()\n",
    "        result = [] \n",
    "        for i in buffer:\n",
    "            clean_words = i.strip(\",.!?()~\\n\").lower()\n",
    "            result.append(clean_words)\n",
    "        fp.close()\n",
    "        return result\n",
    "        \n",
    "        \n",
    "        \n",
    "        \n",
    "        \n",
    "    #FILL-IN: open the input file ‘lex_file_name’\n",
    "    #FILL-IN: read the content of the file\n",
    "    #FILL-IN: return the list of its words in lowercase"
   ]
  },
  {
   "cell_type": "code",
   "execution_count": 2,
   "metadata": {},
   "outputs": [
    {
     "name": "stdout",
     "output_type": "stream",
     "text": [
      "['tree\\n', 'one\\n', 'wood\\n', 'absurd\\n', 'thought\\n']\n"
     ]
    },
    {
     "data": {
      "text/plain": [
       "['tree', 'one', 'wood', 'absurd', 'thought']"
      ]
     },
     "execution_count": 2,
     "metadata": {},
     "output_type": "execute_result"
    }
   ],
   "source": [
    "read_lexicon2(\"words.txt\")"
   ]
  },
  {
   "cell_type": "code",
   "execution_count": null,
   "metadata": {},
   "outputs": [],
   "source": []
  },
  {
   "cell_type": "code",
   "execution_count": null,
   "metadata": {},
   "outputs": [],
   "source": []
  },
  {
   "cell_type": "code",
   "execution_count": null,
   "metadata": {},
   "outputs": [],
   "source": []
  },
  {
   "cell_type": "code",
   "execution_count": null,
   "metadata": {},
   "outputs": [],
   "source": []
  },
  {
   "cell_type": "code",
   "execution_count": null,
   "metadata": {},
   "outputs": [],
   "source": []
  },
  {
   "cell_type": "code",
   "execution_count": 5,
   "metadata": {},
   "outputs": [
    {
     "data": {
      "text/plain": [
       "['tree', 'one', 'wood', 'absurd', 'thought']"
      ]
     },
     "execution_count": 5,
     "metadata": {},
     "output_type": "execute_result"
    }
   ],
   "source": [
    "def read_lexicon(lex_file_name):\n",
    "    fp = open(lex_file_name)\n",
    "    buffer = fp.readlines()\n",
    "    return_list = []\n",
    "    for line in buffer:\n",
    "        clean_lines = line.strip(\".,!:?()\\n\").lower()\n",
    "        return_list.append(clean_lines)\n",
    "    fp.close()\n",
    "    return return_list   \n",
    "    \n",
    "    \n",
    "\n",
    "read_lexicon(\"words.txt\")\n",
    "    \n",
    "    #FILL-IN: open the input file ‘lex_file_name’\n",
    "    #FILL-IN: read the content of the file\n",
    "    #FILL-IN: return the list of its words in lowercase"
   ]
  },
  {
   "cell_type": "markdown",
   "metadata": {},
   "source": [
    "2b"
   ]
  },
  {
   "cell_type": "code",
   "execution_count": 13,
   "metadata": {},
   "outputs": [],
   "source": [
    " def cleaned_words2(line):\n",
    "        words = line.split()\n",
    "        return_list = []\n",
    "        for i in words:\n",
    "            clean_words = i.strip(\".,?!\\n:; \").lower()\n",
    "            return_list.append(clean_words)\n",
    "        return return_list\n",
    "        \n",
    "        \n",
    "    #FILL-IN: return the list of cleaned-up words in line"
   ]
  },
  {
   "cell_type": "code",
   "execution_count": 14,
   "metadata": {},
   "outputs": [
    {
     "data": {
      "text/plain": [
       "['this', 'is', 'a', 'sentence']"
      ]
     },
     "execution_count": 14,
     "metadata": {},
     "output_type": "execute_result"
    }
   ],
   "source": [
    "cleaned_words2(\" This is a sentence! \")"
   ]
  },
  {
   "cell_type": "code",
   "execution_count": null,
   "metadata": {},
   "outputs": [],
   "source": []
  },
  {
   "cell_type": "code",
   "execution_count": null,
   "metadata": {},
   "outputs": [],
   "source": []
  },
  {
   "cell_type": "code",
   "execution_count": null,
   "metadata": {},
   "outputs": [],
   "source": []
  },
  {
   "cell_type": "code",
   "execution_count": null,
   "metadata": {},
   "outputs": [],
   "source": []
  },
  {
   "cell_type": "code",
   "execution_count": null,
   "metadata": {},
   "outputs": [],
   "source": []
  },
  {
   "cell_type": "code",
   "execution_count": null,
   "metadata": {},
   "outputs": [],
   "source": []
  },
  {
   "cell_type": "code",
   "execution_count": null,
   "metadata": {},
   "outputs": [],
   "source": []
  },
  {
   "cell_type": "code",
   "execution_count": 8,
   "metadata": {},
   "outputs": [
    {
     "data": {
      "text/plain": [
       "['this', 'is', 'a', 'sentence']"
      ]
     },
     "execution_count": 8,
     "metadata": {},
     "output_type": "execute_result"
    }
   ],
   "source": [
    " def cleaned_words(line):\n",
    "    #FILL-IN: return the list of cleaned-up words in line\n",
    "    theList = []\n",
    "    words = line.split()\n",
    "    for word in words:\n",
    "        clean_word = word.strip(\",.:;!?''\\n()\").lower()\n",
    "        theList.append(clean_word)\n",
    "    return theList\n",
    "    \n",
    "cleaned_words(\" This is a sentence! \")"
   ]
  },
  {
   "cell_type": "markdown",
   "metadata": {},
   "source": [
    "2c "
   ]
  },
  {
   "cell_type": "code",
   "execution_count": 13,
   "metadata": {},
   "outputs": [],
   "source": [
    "def collect_frequencies(lex_file_name, input_file_name):\n",
    "    lexicon = read_lexicon(lex_file_name)\n",
    "    \n",
    "    fp = open(input_file_name)\n",
    "    buffer = fp.readlines()\n",
    "    print (buffer)\n",
    "\n",
    "\n",
    "    words_fp = []\n",
    "    for i in buffer:\n",
    "        words_fp.extend(cleaned_words(i))\n",
    "    print(words_fp)\n",
    "    \n",
    "    diccount = {}\n",
    "    \n",
    "    for i in lexicon:\n",
    "        diccount[i] = 0\n",
    "    \n",
    "    for i in words_fp:\n",
    "        if i in diccount:\n",
    "            diccount[i] += 1\n",
    "            \n",
    "    fp.close()\n",
    "\n",
    "    return diccount\n",
    "\n",
    "    \n",
    "    #print(lexicon)\n",
    "\n",
    "    \n",
    "    #FILL-IN: read and clean up the content of input file, using the function “cleaned_words” above\n",
    "    #FILL-IN: calculate the frequency of each word of lexicon in the input file\n",
    "    #FILL-IN: return a dictionary with words as key and their frequencies as value"
   ]
  },
  {
   "cell_type": "code",
   "execution_count": 14,
   "metadata": {},
   "outputs": [
    {
     "name": "stdout",
     "output_type": "stream",
     "text": [
      "['             JABBERWOCKY\\n', '\\n', \"     'Twas brillig, and the slithy toves\\n\", '      Did gyre and gimble in the wabe;\\n', '     All mimsy were the borogoves,\\n', '      And the mome raths outgrabe.\\n', '\\n', \"     'Beware the Jabberwock, my son!\\n\", '      The jaws that bite, the claws that catch!\\n', '     Beware the Jubjub bird, and shun\\n', \"      The frumious Bandersnatch!'\\n\", '\\n', '     He took his vorpal sword in hand:\\n', '      Long time the manxome foe he sought--\\n', '     So rested he by the Tumtum tree,\\n', '      And stood awhile in thought.\\n', '\\n', '     And as in uffish thought he stood,\\n', '      The Jabberwock, with eyes of flame,\\n', '     Came whiffling through the tulgey wood,\\n', '      And burbled as it came!\\n', '\\n', '     One, two! One, two! And through and through\\n', '      The vorpal blade went snicker-snack!\\n', '     He left it dead, and with its head\\n', '      He went galumphing back.\\n', '\\n', \"     'And hast thou slain the Jabberwock?\\n\", '      Come to my arms, my beamish boy!\\n', \"     O frabjous day! Callooh! Callay!'\\n\", '      He chortled in his joy.\\n', '\\n', \"     'Twas brillig, and the slithy toves\\n\", '      Did gyre and gimble in the wabe;\\n', '     All mimsy were the borogoves,\\n', '      And the mome raths outgrabe.\\n']\n",
      "['jabberwocky', 'twas', 'brillig', 'and', 'the', 'slithy', 'toves', 'did', 'gyre', 'and', 'gimble', 'in', 'the', 'wabe', 'all', 'mimsy', 'were', 'the', 'borogoves', 'and', 'the', 'mome', 'raths', 'outgrabe', 'beware', 'the', 'jabberwock', 'my', 'son', 'the', 'jaws', 'that', 'bite', 'the', 'claws', 'that', 'catch', 'beware', 'the', 'jubjub', 'bird', 'and', 'shun', 'the', 'frumious', 'bandersnatch', 'he', 'took', 'his', 'vorpal', 'sword', 'in', 'hand', 'long', 'time', 'the', 'manxome', 'foe', 'he', 'sought--', 'so', 'rested', 'he', 'by', 'the', 'tumtum', 'tree', 'and', 'stood', 'awhile', 'in', 'thought', 'and', 'as', 'in', 'uffish', 'thought', 'he', 'stood', 'the', 'jabberwock', 'with', 'eyes', 'of', 'flame', 'came', 'whiffling', 'through', 'the', 'tulgey', 'wood', 'and', 'burbled', 'as', 'it', 'came', 'one', 'two', 'one', 'two', 'and', 'through', 'and', 'through', 'the', 'vorpal', 'blade', 'went', 'snicker-snack', 'he', 'left', 'it', 'dead', 'and', 'with', 'its', 'head', 'he', 'went', 'galumphing', 'back', 'and', 'hast', 'thou', 'slain', 'the', 'jabberwock', 'come', 'to', 'my', 'arms', 'my', 'beamish', 'boy', 'o', 'frabjous', 'day', 'callooh', 'callay', 'he', 'chortled', 'in', 'his', 'joy', 'twas', 'brillig', 'and', 'the', 'slithy', 'toves', 'did', 'gyre', 'and', 'gimble', 'in', 'the', 'wabe', 'all', 'mimsy', 'were', 'the', 'borogoves', 'and', 'the', 'mome', 'raths', 'outgrabe']\n"
     ]
    },
    {
     "data": {
      "text/plain": [
       "{'absurd': 0, 'one': 2, 'thought': 2, 'tree': 1, 'wood': 1}"
      ]
     },
     "execution_count": 14,
     "metadata": {},
     "output_type": "execute_result"
    }
   ],
   "source": [
    "collect_frequencies('words.txt', 'fiction.txt')"
   ]
  },
  {
   "cell_type": "markdown",
   "metadata": {},
   "source": [
    "2d"
   ]
  },
  {
   "cell_type": "code",
   "execution_count": null,
   "metadata": {},
   "outputs": [],
   "source": [
    "def most_frequent(word_freqs):\n",
    "    maxword = \"\"\n",
    "    maxfreq = 0\n",
    "    for key in word_freqs:\n",
    "        if word_freqs[key] > maxfreq:\n",
    "            maxword = key\n",
    "            maxfreq = word_freqs[key]\n",
    "       \n",
    "    return maxword\n",
    "    \n",
    "    \n",
    "    \n",
    "   #FILL-IN: return the most frequent word in word_freqs "
   ]
  },
  {
   "cell_type": "code",
   "execution_count": null,
   "metadata": {},
   "outputs": [],
   "source": [
    " most_frequent({'absurd': 0, 'thought': 3, 'wood': 1, 'one': 2, 'tree': 1})"
   ]
  },
  {
   "cell_type": "code",
   "execution_count": 8,
   "metadata": {},
   "outputs": [],
   "source": [
    "def most_frequent(word_freqs):\n",
    "    maxfreq = 0\n",
    "    \n",
    "    for key in word_freqs:\n",
    "        if word_freqs[key] > maxfreq:\n",
    "            maxfreq = word_freqs[key]\n",
    "    \n",
    "    print(maxfreq)\n",
    "    \n",
    "    listvalues = []\n",
    "    \n",
    "    for key in word_freqs:\n",
    "        if word_freqs[key] == maxfreq:\n",
    "            listvalues.append(key)\n",
    "            \n",
    "    return listvalues\n",
    "\n",
    "        "
   ]
  },
  {
   "cell_type": "code",
   "execution_count": 10,
   "metadata": {},
   "outputs": [
    {
     "name": "stdout",
     "output_type": "stream",
     "text": [
      "3\n"
     ]
    },
    {
     "data": {
      "text/plain": [
       "['one', 'thought']"
      ]
     },
     "execution_count": 10,
     "metadata": {},
     "output_type": "execute_result"
    }
   ],
   "source": [
    "most_frequent ({'absurd': 0, 'thought': 3, 'wood': 1, 'one': 3, 'tree': 1})\n"
   ]
  },
  {
   "cell_type": "code",
   "execution_count": null,
   "metadata": {},
   "outputs": [],
   "source": []
  },
  {
   "cell_type": "code",
   "execution_count": null,
   "metadata": {},
   "outputs": [],
   "source": []
  },
  {
   "cell_type": "markdown",
   "metadata": {},
   "source": [
    "2e"
   ]
  },
  {
   "cell_type": "code",
   "execution_count": 25,
   "metadata": {},
   "outputs": [],
   "source": [
    "def freq_histogram(word_freqs):\n",
    "    histogram_list = []\n",
    "    \n",
    "    # Here, I find the largest frequency in word_freqs:\n",
    "    maxfreq = 0\n",
    "    for key in word_freqs:\n",
    "        if word_freqs[key] > maxfreq:\n",
    "            maxfreq = word_freqs[key]\n",
    "    print(maxfreq)\n",
    "    \n",
    "    # Here, I create a list with as much items as the largest frequency (all the items are 0)\n",
    "    for key in range(maxfreq+1):\n",
    "        histogram_list.append(0)\n",
    "    print(histogram_list)\n",
    "    \n",
    "    # Here, I fill up the list, incrementing each item in the list\n",
    "    for key in word_freqs:\n",
    "        histogram_list[word_freqs[key]] += 1 \n",
    "\n",
    "    \n",
    "    return(histogram_list)\n",
    "        \n",
    "\n",
    "   #FILL-IN: return the histogram of frequencies as a list of integers"
   ]
  },
  {
   "cell_type": "code",
   "execution_count": 26,
   "metadata": {},
   "outputs": [
    {
     "name": "stdout",
     "output_type": "stream",
     "text": [
      "2\n",
      "[0, 0, 0]\n"
     ]
    },
    {
     "data": {
      "text/plain": [
       "[1, 2, 2]"
      ]
     },
     "execution_count": 26,
     "metadata": {},
     "output_type": "execute_result"
    }
   ],
   "source": [
    "freq_histogram({'absurd': 0, 'thought': 2, 'wood': 1, 'one': 2, \"tree\":1})"
   ]
  },
  {
   "cell_type": "code",
   "execution_count": 24,
   "metadata": {},
   "outputs": [
    {
     "name": "stdout",
     "output_type": "stream",
     "text": [
      "2\n"
     ]
    },
    {
     "data": {
      "text/plain": [
       "[1, 2, 2]"
      ]
     },
     "execution_count": 24,
     "metadata": {},
     "output_type": "execute_result"
    }
   ],
   "source": [
    "def freq_histogram2(word_freqs):\n",
    "    max_freq = word_freqs[most_frequent(word_freqs)[0]]\n",
    "    histogram = [0] * (max_freq+1)\n",
    "    for word in word_freqs:\n",
    "        histogram[word_freqs[word]] += 1\n",
    "    return histogram\n",
    "    \n",
    "freq_histogram2({'absurd': 0, 'thought': 2, 'wood': 1, 'one': 2, \"tree\":1}) "
   ]
  },
  {
   "cell_type": "code",
   "execution_count": null,
   "metadata": {},
   "outputs": [],
   "source": []
  }
 ],
 "metadata": {
  "kernelspec": {
   "display_name": "Python 3",
   "language": "python",
   "name": "python3"
  },
  "language_info": {
   "codemirror_mode": {
    "name": "ipython",
    "version": 3
   },
   "file_extension": ".py",
   "mimetype": "text/x-python",
   "name": "python",
   "nbconvert_exporter": "python",
   "pygments_lexer": "ipython3",
   "version": "3.5.3"
  }
 },
 "nbformat": 4,
 "nbformat_minor": 2
}
